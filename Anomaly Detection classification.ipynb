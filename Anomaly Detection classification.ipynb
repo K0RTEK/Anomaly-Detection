{
  "cells": [
    {
      "cell_type": "code",
      "source": [
        "import numpy as np\n",
        "import pandas as pd\n",
        "import seaborn as sns\n",
        "import sklearn as skl\n",
        "import plotly.express as px\n",
        "from sklearn.preprocessing import LabelEncoder\n",
        "from sklearn.ensemble import IsolationForest"
      ],
      "outputs": [],
      "execution_count": 50,
      "metadata": {
        "executionInfo": {
          "elapsed": 7,
          "status": "ok",
          "timestamp": 1669401473334,
          "user": {
            "displayName": "Кирилл Сидоров",
            "userId": "17089401133645507049"
          },
          "user_tz": -180
        },
        "id": "n6XWsMT1WhSP"
      }
    },
    {
      "cell_type": "code",
      "source": [
        "df=pd.read_csv('IHMStefanini_industrial_safety_and_health_database_with_accidents_description.csv')"
      ],
      "outputs": [],
      "execution_count": 51,
      "metadata": {
        "executionInfo": {
          "elapsed": 6,
          "status": "ok",
          "timestamp": 1669401473334,
          "user": {
            "displayName": "Кирилл Сидоров",
            "userId": "17089401133645507049"
          },
          "user_tz": -180
        },
        "id": "Zac-L_MDW2LP"
      }
    },
    {
      "cell_type": "code",
      "source": [
        "df"
      ],
      "outputs": [
        {
          "output_type": "execute_result",
          "execution_count": 52,
          "data": {
            "text/html": "<div>\n<style scoped>\n    .dataframe tbody tr th:only-of-type {\n        vertical-align: middle;\n    }\n\n    .dataframe tbody tr th {\n        vertical-align: top;\n    }\n\n    .dataframe thead th {\n        text-align: right;\n    }\n</style>\n<table border=\"1\" class=\"dataframe\">\n  <thead>\n    <tr style=\"text-align: right;\">\n      <th></th>\n      <th>Unnamed: 0</th>\n      <th>Data</th>\n      <th>Countries</th>\n      <th>Local</th>\n      <th>Industry Sector</th>\n      <th>Accident Level</th>\n      <th>Potential Accident Level</th>\n      <th>Genre</th>\n      <th>Employee or Third Party</th>\n      <th>Critical Risk</th>\n      <th>Description</th>\n    </tr>\n  </thead>\n  <tbody>\n    <tr>\n      <th>0</th>\n      <td>0</td>\n      <td>2016-01-01 00:00:00</td>\n      <td>Country_01</td>\n      <td>Local_01</td>\n      <td>Mining</td>\n      <td>I</td>\n      <td>IV</td>\n      <td>Male</td>\n      <td>Third Party</td>\n      <td>Pressed</td>\n      <td>While removing the drill rod of the Jumbo 08 f...</td>\n    </tr>\n    <tr>\n      <th>1</th>\n      <td>1</td>\n      <td>2016-01-02 00:00:00</td>\n      <td>Country_02</td>\n      <td>Local_02</td>\n      <td>Mining</td>\n      <td>I</td>\n      <td>IV</td>\n      <td>Male</td>\n      <td>Employee</td>\n      <td>Pressurized Systems</td>\n      <td>During the activation of a sodium sulphide pum...</td>\n    </tr>\n    <tr>\n      <th>2</th>\n      <td>2</td>\n      <td>2016-01-06 00:00:00</td>\n      <td>Country_01</td>\n      <td>Local_03</td>\n      <td>Mining</td>\n      <td>I</td>\n      <td>III</td>\n      <td>Male</td>\n      <td>Third Party (Remote)</td>\n      <td>Manual Tools</td>\n      <td>In the sub-station MILPO located at level +170...</td>\n    </tr>\n    <tr>\n      <th>3</th>\n      <td>3</td>\n      <td>2016-01-08 00:00:00</td>\n      <td>Country_01</td>\n      <td>Local_04</td>\n      <td>Mining</td>\n      <td>I</td>\n      <td>I</td>\n      <td>Male</td>\n      <td>Third Party</td>\n      <td>Others</td>\n      <td>Being 9:45 am. approximately in the Nv. 1880 C...</td>\n    </tr>\n    <tr>\n      <th>4</th>\n      <td>4</td>\n      <td>2016-01-10 00:00:00</td>\n      <td>Country_01</td>\n      <td>Local_04</td>\n      <td>Mining</td>\n      <td>IV</td>\n      <td>IV</td>\n      <td>Male</td>\n      <td>Third Party</td>\n      <td>Others</td>\n      <td>Approximately at 11:45 a.m. in circumstances t...</td>\n    </tr>\n    <tr>\n      <th>...</th>\n      <td>...</td>\n      <td>...</td>\n      <td>...</td>\n      <td>...</td>\n      <td>...</td>\n      <td>...</td>\n      <td>...</td>\n      <td>...</td>\n      <td>...</td>\n      <td>...</td>\n      <td>...</td>\n    </tr>\n    <tr>\n      <th>420</th>\n      <td>434</td>\n      <td>2017-07-04 00:00:00</td>\n      <td>Country_01</td>\n      <td>Local_04</td>\n      <td>Mining</td>\n      <td>I</td>\n      <td>III</td>\n      <td>Male</td>\n      <td>Third Party</td>\n      <td>Others</td>\n      <td>Being approximately 5:00 a.m. approximately, w...</td>\n    </tr>\n    <tr>\n      <th>421</th>\n      <td>435</td>\n      <td>2017-07-04 00:00:00</td>\n      <td>Country_01</td>\n      <td>Local_03</td>\n      <td>Mining</td>\n      <td>I</td>\n      <td>II</td>\n      <td>Female</td>\n      <td>Employee</td>\n      <td>Others</td>\n      <td>The collaborator moved from the infrastructure...</td>\n    </tr>\n    <tr>\n      <th>422</th>\n      <td>436</td>\n      <td>2017-07-05 00:00:00</td>\n      <td>Country_02</td>\n      <td>Local_09</td>\n      <td>Metals</td>\n      <td>I</td>\n      <td>II</td>\n      <td>Male</td>\n      <td>Employee</td>\n      <td>Venomous Animals</td>\n      <td>During the environmental monitoring activity i...</td>\n    </tr>\n    <tr>\n      <th>423</th>\n      <td>437</td>\n      <td>2017-07-06 00:00:00</td>\n      <td>Country_02</td>\n      <td>Local_05</td>\n      <td>Metals</td>\n      <td>I</td>\n      <td>II</td>\n      <td>Male</td>\n      <td>Employee</td>\n      <td>Cut</td>\n      <td>The Employee performed the activity of strippi...</td>\n    </tr>\n    <tr>\n      <th>424</th>\n      <td>438</td>\n      <td>2017-07-09 00:00:00</td>\n      <td>Country_01</td>\n      <td>Local_04</td>\n      <td>Mining</td>\n      <td>I</td>\n      <td>II</td>\n      <td>Female</td>\n      <td>Third Party</td>\n      <td>Fall prevention (same level)</td>\n      <td>At 10:00 a.m., when the assistant cleaned the ...</td>\n    </tr>\n  </tbody>\n</table>\n<p>425 rows × 11 columns</p>\n</div>",
            "text/plain": "     Unnamed: 0                 Data   Countries     Local Industry Sector  \\\n0             0  2016-01-01 00:00:00  Country_01  Local_01          Mining   \n1             1  2016-01-02 00:00:00  Country_02  Local_02          Mining   \n2             2  2016-01-06 00:00:00  Country_01  Local_03          Mining   \n3             3  2016-01-08 00:00:00  Country_01  Local_04          Mining   \n4             4  2016-01-10 00:00:00  Country_01  Local_04          Mining   \n..          ...                  ...         ...       ...             ...   \n420         434  2017-07-04 00:00:00  Country_01  Local_04          Mining   \n421         435  2017-07-04 00:00:00  Country_01  Local_03          Mining   \n422         436  2017-07-05 00:00:00  Country_02  Local_09          Metals   \n423         437  2017-07-06 00:00:00  Country_02  Local_05          Metals   \n424         438  2017-07-09 00:00:00  Country_01  Local_04          Mining   \n\n    Accident Level Potential Accident Level   Genre Employee or Third Party  \\\n0                I                       IV    Male             Third Party   \n1                I                       IV    Male                Employee   \n2                I                      III    Male    Third Party (Remote)   \n3                I                        I    Male             Third Party   \n4               IV                       IV    Male             Third Party   \n..             ...                      ...     ...                     ...   \n420              I                      III    Male             Third Party   \n421              I                       II  Female                Employee   \n422              I                       II    Male                Employee   \n423              I                       II    Male                Employee   \n424              I                       II  Female             Third Party   \n\n                    Critical Risk  \\\n0                         Pressed   \n1             Pressurized Systems   \n2                    Manual Tools   \n3                          Others   \n4                          Others   \n..                            ...   \n420                        Others   \n421                        Others   \n422              Venomous Animals   \n423                           Cut   \n424  Fall prevention (same level)   \n\n                                           Description  \n0    While removing the drill rod of the Jumbo 08 f...  \n1    During the activation of a sodium sulphide pum...  \n2    In the sub-station MILPO located at level +170...  \n3    Being 9:45 am. approximately in the Nv. 1880 C...  \n4    Approximately at 11:45 a.m. in circumstances t...  \n..                                                 ...  \n420  Being approximately 5:00 a.m. approximately, w...  \n421  The collaborator moved from the infrastructure...  \n422  During the environmental monitoring activity i...  \n423  The Employee performed the activity of strippi...  \n424  At 10:00 a.m., when the assistant cleaned the ...  \n\n[425 rows x 11 columns]"
          },
          "metadata": {}
        }
      ],
      "execution_count": 52,
      "metadata": {
        "colab": {
          "base_uri": "https://localhost:8080/",
          "height": 424
        },
        "executionInfo": {
          "elapsed": 6,
          "status": "ok",
          "timestamp": 1669401473334,
          "user": {
            "displayName": "Кирилл Сидоров",
            "userId": "17089401133645507049"
          },
          "user_tz": -180
        },
        "id": "QpTFGoAeBO_5",
        "outputId": "66f78445-d4e9-4eee-b043-2f8d249c9433"
      }
    },
    {
      "cell_type": "code",
      "source": [
        "def LabelEnc(column):\n",
        "  label_encoder = LabelEncoder()\n",
        "  mapped_education = pd.Series(label_encoder.fit_transform(df[column]))\n",
        "  df[column]=mapped_education\n",
        "\n",
        "lst=['Countries','Local','Industry Sector','Accident Level','Potential Accident Level','Genre','Employee or Third Party']\n",
        "for i in lst:\n",
        "  LabelEnc(i)\n",
        "df"
      ],
      "outputs": [
        {
          "output_type": "execute_result",
          "execution_count": 53,
          "data": {
            "text/html": "<div>\n<style scoped>\n    .dataframe tbody tr th:only-of-type {\n        vertical-align: middle;\n    }\n\n    .dataframe tbody tr th {\n        vertical-align: top;\n    }\n\n    .dataframe thead th {\n        text-align: right;\n    }\n</style>\n<table border=\"1\" class=\"dataframe\">\n  <thead>\n    <tr style=\"text-align: right;\">\n      <th></th>\n      <th>Unnamed: 0</th>\n      <th>Data</th>\n      <th>Countries</th>\n      <th>Local</th>\n      <th>Industry Sector</th>\n      <th>Accident Level</th>\n      <th>Potential Accident Level</th>\n      <th>Genre</th>\n      <th>Employee or Third Party</th>\n      <th>Critical Risk</th>\n      <th>Description</th>\n    </tr>\n  </thead>\n  <tbody>\n    <tr>\n      <th>0</th>\n      <td>0</td>\n      <td>2016-01-01 00:00:00</td>\n      <td>0</td>\n      <td>0</td>\n      <td>1</td>\n      <td>0</td>\n      <td>3</td>\n      <td>1</td>\n      <td>1</td>\n      <td>Pressed</td>\n      <td>While removing the drill rod of the Jumbo 08 f...</td>\n    </tr>\n    <tr>\n      <th>1</th>\n      <td>1</td>\n      <td>2016-01-02 00:00:00</td>\n      <td>1</td>\n      <td>1</td>\n      <td>1</td>\n      <td>0</td>\n      <td>3</td>\n      <td>1</td>\n      <td>0</td>\n      <td>Pressurized Systems</td>\n      <td>During the activation of a sodium sulphide pum...</td>\n    </tr>\n    <tr>\n      <th>2</th>\n      <td>2</td>\n      <td>2016-01-06 00:00:00</td>\n      <td>0</td>\n      <td>2</td>\n      <td>1</td>\n      <td>0</td>\n      <td>2</td>\n      <td>1</td>\n      <td>2</td>\n      <td>Manual Tools</td>\n      <td>In the sub-station MILPO located at level +170...</td>\n    </tr>\n    <tr>\n      <th>3</th>\n      <td>3</td>\n      <td>2016-01-08 00:00:00</td>\n      <td>0</td>\n      <td>3</td>\n      <td>1</td>\n      <td>0</td>\n      <td>0</td>\n      <td>1</td>\n      <td>1</td>\n      <td>Others</td>\n      <td>Being 9:45 am. approximately in the Nv. 1880 C...</td>\n    </tr>\n    <tr>\n      <th>4</th>\n      <td>4</td>\n      <td>2016-01-10 00:00:00</td>\n      <td>0</td>\n      <td>3</td>\n      <td>1</td>\n      <td>3</td>\n      <td>3</td>\n      <td>1</td>\n      <td>1</td>\n      <td>Others</td>\n      <td>Approximately at 11:45 a.m. in circumstances t...</td>\n    </tr>\n    <tr>\n      <th>...</th>\n      <td>...</td>\n      <td>...</td>\n      <td>...</td>\n      <td>...</td>\n      <td>...</td>\n      <td>...</td>\n      <td>...</td>\n      <td>...</td>\n      <td>...</td>\n      <td>...</td>\n      <td>...</td>\n    </tr>\n    <tr>\n      <th>420</th>\n      <td>434</td>\n      <td>2017-07-04 00:00:00</td>\n      <td>0</td>\n      <td>3</td>\n      <td>1</td>\n      <td>0</td>\n      <td>2</td>\n      <td>1</td>\n      <td>1</td>\n      <td>Others</td>\n      <td>Being approximately 5:00 a.m. approximately, w...</td>\n    </tr>\n    <tr>\n      <th>421</th>\n      <td>435</td>\n      <td>2017-07-04 00:00:00</td>\n      <td>0</td>\n      <td>2</td>\n      <td>1</td>\n      <td>0</td>\n      <td>1</td>\n      <td>0</td>\n      <td>0</td>\n      <td>Others</td>\n      <td>The collaborator moved from the infrastructure...</td>\n    </tr>\n    <tr>\n      <th>422</th>\n      <td>436</td>\n      <td>2017-07-05 00:00:00</td>\n      <td>1</td>\n      <td>8</td>\n      <td>0</td>\n      <td>0</td>\n      <td>1</td>\n      <td>1</td>\n      <td>0</td>\n      <td>Venomous Animals</td>\n      <td>During the environmental monitoring activity i...</td>\n    </tr>\n    <tr>\n      <th>423</th>\n      <td>437</td>\n      <td>2017-07-06 00:00:00</td>\n      <td>1</td>\n      <td>4</td>\n      <td>0</td>\n      <td>0</td>\n      <td>1</td>\n      <td>1</td>\n      <td>0</td>\n      <td>Cut</td>\n      <td>The Employee performed the activity of strippi...</td>\n    </tr>\n    <tr>\n      <th>424</th>\n      <td>438</td>\n      <td>2017-07-09 00:00:00</td>\n      <td>0</td>\n      <td>3</td>\n      <td>1</td>\n      <td>0</td>\n      <td>1</td>\n      <td>0</td>\n      <td>1</td>\n      <td>Fall prevention (same level)</td>\n      <td>At 10:00 a.m., when the assistant cleaned the ...</td>\n    </tr>\n  </tbody>\n</table>\n<p>425 rows × 11 columns</p>\n</div>",
            "text/plain": "     Unnamed: 0                 Data  Countries  Local  Industry Sector  \\\n0             0  2016-01-01 00:00:00          0      0                1   \n1             1  2016-01-02 00:00:00          1      1                1   \n2             2  2016-01-06 00:00:00          0      2                1   \n3             3  2016-01-08 00:00:00          0      3                1   \n4             4  2016-01-10 00:00:00          0      3                1   \n..          ...                  ...        ...    ...              ...   \n420         434  2017-07-04 00:00:00          0      3                1   \n421         435  2017-07-04 00:00:00          0      2                1   \n422         436  2017-07-05 00:00:00          1      8                0   \n423         437  2017-07-06 00:00:00          1      4                0   \n424         438  2017-07-09 00:00:00          0      3                1   \n\n     Accident Level  Potential Accident Level  Genre  Employee or Third Party  \\\n0                 0                         3      1                        1   \n1                 0                         3      1                        0   \n2                 0                         2      1                        2   \n3                 0                         0      1                        1   \n4                 3                         3      1                        1   \n..              ...                       ...    ...                      ...   \n420               0                         2      1                        1   \n421               0                         1      0                        0   \n422               0                         1      1                        0   \n423               0                         1      1                        0   \n424               0                         1      0                        1   \n\n                    Critical Risk  \\\n0                         Pressed   \n1             Pressurized Systems   \n2                    Manual Tools   \n3                          Others   \n4                          Others   \n..                            ...   \n420                        Others   \n421                        Others   \n422              Venomous Animals   \n423                           Cut   \n424  Fall prevention (same level)   \n\n                                           Description  \n0    While removing the drill rod of the Jumbo 08 f...  \n1    During the activation of a sodium sulphide pum...  \n2    In the sub-station MILPO located at level +170...  \n3    Being 9:45 am. approximately in the Nv. 1880 C...  \n4    Approximately at 11:45 a.m. in circumstances t...  \n..                                                 ...  \n420  Being approximately 5:00 a.m. approximately, w...  \n421  The collaborator moved from the infrastructure...  \n422  During the environmental monitoring activity i...  \n423  The Employee performed the activity of strippi...  \n424  At 10:00 a.m., when the assistant cleaned the ...  \n\n[425 rows x 11 columns]"
          },
          "metadata": {}
        }
      ],
      "execution_count": 53,
      "metadata": {
        "colab": {
          "base_uri": "https://localhost:8080/",
          "height": 424
        },
        "executionInfo": {
          "elapsed": 259,
          "status": "ok",
          "timestamp": 1669401473588,
          "user": {
            "displayName": "Кирилл Сидоров",
            "userId": "17089401133645507049"
          },
          "user_tz": -180
        },
        "id": "WpNLIovW7r_U",
        "outputId": "b3568948-33f4-4b51-9c0e-d58bbe58d0d1"
      }
    },
    {
      "cell_type": "code",
      "source": [
        "df"
      ],
      "outputs": [
        {
          "output_type": "execute_result",
          "execution_count": 54,
          "data": {
            "text/html": "<div>\n<style scoped>\n    .dataframe tbody tr th:only-of-type {\n        vertical-align: middle;\n    }\n\n    .dataframe tbody tr th {\n        vertical-align: top;\n    }\n\n    .dataframe thead th {\n        text-align: right;\n    }\n</style>\n<table border=\"1\" class=\"dataframe\">\n  <thead>\n    <tr style=\"text-align: right;\">\n      <th></th>\n      <th>Unnamed: 0</th>\n      <th>Data</th>\n      <th>Countries</th>\n      <th>Local</th>\n      <th>Industry Sector</th>\n      <th>Accident Level</th>\n      <th>Potential Accident Level</th>\n      <th>Genre</th>\n      <th>Employee or Third Party</th>\n      <th>Critical Risk</th>\n      <th>Description</th>\n    </tr>\n  </thead>\n  <tbody>\n    <tr>\n      <th>0</th>\n      <td>0</td>\n      <td>2016-01-01 00:00:00</td>\n      <td>0</td>\n      <td>0</td>\n      <td>1</td>\n      <td>0</td>\n      <td>3</td>\n      <td>1</td>\n      <td>1</td>\n      <td>Pressed</td>\n      <td>While removing the drill rod of the Jumbo 08 f...</td>\n    </tr>\n    <tr>\n      <th>1</th>\n      <td>1</td>\n      <td>2016-01-02 00:00:00</td>\n      <td>1</td>\n      <td>1</td>\n      <td>1</td>\n      <td>0</td>\n      <td>3</td>\n      <td>1</td>\n      <td>0</td>\n      <td>Pressurized Systems</td>\n      <td>During the activation of a sodium sulphide pum...</td>\n    </tr>\n    <tr>\n      <th>2</th>\n      <td>2</td>\n      <td>2016-01-06 00:00:00</td>\n      <td>0</td>\n      <td>2</td>\n      <td>1</td>\n      <td>0</td>\n      <td>2</td>\n      <td>1</td>\n      <td>2</td>\n      <td>Manual Tools</td>\n      <td>In the sub-station MILPO located at level +170...</td>\n    </tr>\n    <tr>\n      <th>3</th>\n      <td>3</td>\n      <td>2016-01-08 00:00:00</td>\n      <td>0</td>\n      <td>3</td>\n      <td>1</td>\n      <td>0</td>\n      <td>0</td>\n      <td>1</td>\n      <td>1</td>\n      <td>Others</td>\n      <td>Being 9:45 am. approximately in the Nv. 1880 C...</td>\n    </tr>\n    <tr>\n      <th>4</th>\n      <td>4</td>\n      <td>2016-01-10 00:00:00</td>\n      <td>0</td>\n      <td>3</td>\n      <td>1</td>\n      <td>3</td>\n      <td>3</td>\n      <td>1</td>\n      <td>1</td>\n      <td>Others</td>\n      <td>Approximately at 11:45 a.m. in circumstances t...</td>\n    </tr>\n    <tr>\n      <th>...</th>\n      <td>...</td>\n      <td>...</td>\n      <td>...</td>\n      <td>...</td>\n      <td>...</td>\n      <td>...</td>\n      <td>...</td>\n      <td>...</td>\n      <td>...</td>\n      <td>...</td>\n      <td>...</td>\n    </tr>\n    <tr>\n      <th>420</th>\n      <td>434</td>\n      <td>2017-07-04 00:00:00</td>\n      <td>0</td>\n      <td>3</td>\n      <td>1</td>\n      <td>0</td>\n      <td>2</td>\n      <td>1</td>\n      <td>1</td>\n      <td>Others</td>\n      <td>Being approximately 5:00 a.m. approximately, w...</td>\n    </tr>\n    <tr>\n      <th>421</th>\n      <td>435</td>\n      <td>2017-07-04 00:00:00</td>\n      <td>0</td>\n      <td>2</td>\n      <td>1</td>\n      <td>0</td>\n      <td>1</td>\n      <td>0</td>\n      <td>0</td>\n      <td>Others</td>\n      <td>The collaborator moved from the infrastructure...</td>\n    </tr>\n    <tr>\n      <th>422</th>\n      <td>436</td>\n      <td>2017-07-05 00:00:00</td>\n      <td>1</td>\n      <td>8</td>\n      <td>0</td>\n      <td>0</td>\n      <td>1</td>\n      <td>1</td>\n      <td>0</td>\n      <td>Venomous Animals</td>\n      <td>During the environmental monitoring activity i...</td>\n    </tr>\n    <tr>\n      <th>423</th>\n      <td>437</td>\n      <td>2017-07-06 00:00:00</td>\n      <td>1</td>\n      <td>4</td>\n      <td>0</td>\n      <td>0</td>\n      <td>1</td>\n      <td>1</td>\n      <td>0</td>\n      <td>Cut</td>\n      <td>The Employee performed the activity of strippi...</td>\n    </tr>\n    <tr>\n      <th>424</th>\n      <td>438</td>\n      <td>2017-07-09 00:00:00</td>\n      <td>0</td>\n      <td>3</td>\n      <td>1</td>\n      <td>0</td>\n      <td>1</td>\n      <td>0</td>\n      <td>1</td>\n      <td>Fall prevention (same level)</td>\n      <td>At 10:00 a.m., when the assistant cleaned the ...</td>\n    </tr>\n  </tbody>\n</table>\n<p>425 rows × 11 columns</p>\n</div>",
            "text/plain": "     Unnamed: 0                 Data  Countries  Local  Industry Sector  \\\n0             0  2016-01-01 00:00:00          0      0                1   \n1             1  2016-01-02 00:00:00          1      1                1   \n2             2  2016-01-06 00:00:00          0      2                1   \n3             3  2016-01-08 00:00:00          0      3                1   \n4             4  2016-01-10 00:00:00          0      3                1   \n..          ...                  ...        ...    ...              ...   \n420         434  2017-07-04 00:00:00          0      3                1   \n421         435  2017-07-04 00:00:00          0      2                1   \n422         436  2017-07-05 00:00:00          1      8                0   \n423         437  2017-07-06 00:00:00          1      4                0   \n424         438  2017-07-09 00:00:00          0      3                1   \n\n     Accident Level  Potential Accident Level  Genre  Employee or Third Party  \\\n0                 0                         3      1                        1   \n1                 0                         3      1                        0   \n2                 0                         2      1                        2   \n3                 0                         0      1                        1   \n4                 3                         3      1                        1   \n..              ...                       ...    ...                      ...   \n420               0                         2      1                        1   \n421               0                         1      0                        0   \n422               0                         1      1                        0   \n423               0                         1      1                        0   \n424               0                         1      0                        1   \n\n                    Critical Risk  \\\n0                         Pressed   \n1             Pressurized Systems   \n2                    Manual Tools   \n3                          Others   \n4                          Others   \n..                            ...   \n420                        Others   \n421                        Others   \n422              Venomous Animals   \n423                           Cut   \n424  Fall prevention (same level)   \n\n                                           Description  \n0    While removing the drill rod of the Jumbo 08 f...  \n1    During the activation of a sodium sulphide pum...  \n2    In the sub-station MILPO located at level +170...  \n3    Being 9:45 am. approximately in the Nv. 1880 C...  \n4    Approximately at 11:45 a.m. in circumstances t...  \n..                                                 ...  \n420  Being approximately 5:00 a.m. approximately, w...  \n421  The collaborator moved from the infrastructure...  \n422  During the environmental monitoring activity i...  \n423  The Employee performed the activity of strippi...  \n424  At 10:00 a.m., when the assistant cleaned the ...  \n\n[425 rows x 11 columns]"
          },
          "metadata": {}
        }
      ],
      "execution_count": 54,
      "metadata": {}
    },
    {
      "cell_type": "code",
      "source": [
        "df=df.drop_duplicates()\n",
        "\n",
        "df.columns = map(str.lower, df.columns)\n",
        "\n",
        "df['data'] = df['data'].apply(pd.to_datetime)\n",
        "\n",
        "df['day'] = [d.date() for d in df['data']]\n",
        "df['time'] = [d.time() for d in df['data']]\n",
        "df=df.drop(columns='data')\n",
        "df=df.drop(columns='time')\n",
        "\n",
        "df_non_numeric = df.select_dtypes(exclude=[np.number])\n",
        "non_numeric_cols = df_non_numeric.columns.values\n",
        "\n",
        "df['critical risk'].str.lower()\n",
        "\n",
        "df=df.rename(columns={'local': 'city','genre': 'gender','employee ou terceiro': 'employee or third party','risco critico': 'critical risk','day':'date'})"
      ],
      "outputs": [],
      "execution_count": 55,
      "metadata": {
        "colab": {
          "base_uri": "https://localhost:8080/"
        },
        "executionInfo": {
          "elapsed": 6,
          "status": "ok",
          "timestamp": 1669401473588,
          "user": {
            "displayName": "Кирилл Сидоров",
            "userId": "17089401133645507049"
          },
          "user_tz": -180
        },
        "id": "UqjstvMmAwft",
        "outputId": "59cc29df-6691-49fe-b66c-0d14ff5b5bc3"
      }
    },
    {
      "cell_type": "code",
      "source": [
        "cols = list(df.columns)\n",
        "cols.insert(0,cols[cols.index('date')])\n",
        "cols.pop(len(cols)-1)\n",
        "df = df[cols]\n",
        "df"
      ],
      "outputs": [
        {
          "output_type": "execute_result",
          "execution_count": 56,
          "data": {
            "text/html": "<div>\n<style scoped>\n    .dataframe tbody tr th:only-of-type {\n        vertical-align: middle;\n    }\n\n    .dataframe tbody tr th {\n        vertical-align: top;\n    }\n\n    .dataframe thead th {\n        text-align: right;\n    }\n</style>\n<table border=\"1\" class=\"dataframe\">\n  <thead>\n    <tr style=\"text-align: right;\">\n      <th></th>\n      <th>date</th>\n      <th>unnamed: 0</th>\n      <th>countries</th>\n      <th>city</th>\n      <th>industry sector</th>\n      <th>accident level</th>\n      <th>potential accident level</th>\n      <th>gender</th>\n      <th>employee or third party</th>\n      <th>critical risk</th>\n      <th>description</th>\n    </tr>\n  </thead>\n  <tbody>\n    <tr>\n      <th>0</th>\n      <td>2016-01-01</td>\n      <td>0</td>\n      <td>0</td>\n      <td>0</td>\n      <td>1</td>\n      <td>0</td>\n      <td>3</td>\n      <td>1</td>\n      <td>1</td>\n      <td>Pressed</td>\n      <td>While removing the drill rod of the Jumbo 08 f...</td>\n    </tr>\n    <tr>\n      <th>1</th>\n      <td>2016-01-02</td>\n      <td>1</td>\n      <td>1</td>\n      <td>1</td>\n      <td>1</td>\n      <td>0</td>\n      <td>3</td>\n      <td>1</td>\n      <td>0</td>\n      <td>Pressurized Systems</td>\n      <td>During the activation of a sodium sulphide pum...</td>\n    </tr>\n    <tr>\n      <th>2</th>\n      <td>2016-01-06</td>\n      <td>2</td>\n      <td>0</td>\n      <td>2</td>\n      <td>1</td>\n      <td>0</td>\n      <td>2</td>\n      <td>1</td>\n      <td>2</td>\n      <td>Manual Tools</td>\n      <td>In the sub-station MILPO located at level +170...</td>\n    </tr>\n    <tr>\n      <th>3</th>\n      <td>2016-01-08</td>\n      <td>3</td>\n      <td>0</td>\n      <td>3</td>\n      <td>1</td>\n      <td>0</td>\n      <td>0</td>\n      <td>1</td>\n      <td>1</td>\n      <td>Others</td>\n      <td>Being 9:45 am. approximately in the Nv. 1880 C...</td>\n    </tr>\n    <tr>\n      <th>4</th>\n      <td>2016-01-10</td>\n      <td>4</td>\n      <td>0</td>\n      <td>3</td>\n      <td>1</td>\n      <td>3</td>\n      <td>3</td>\n      <td>1</td>\n      <td>1</td>\n      <td>Others</td>\n      <td>Approximately at 11:45 a.m. in circumstances t...</td>\n    </tr>\n    <tr>\n      <th>...</th>\n      <td>...</td>\n      <td>...</td>\n      <td>...</td>\n      <td>...</td>\n      <td>...</td>\n      <td>...</td>\n      <td>...</td>\n      <td>...</td>\n      <td>...</td>\n      <td>...</td>\n      <td>...</td>\n    </tr>\n    <tr>\n      <th>420</th>\n      <td>2017-07-04</td>\n      <td>434</td>\n      <td>0</td>\n      <td>3</td>\n      <td>1</td>\n      <td>0</td>\n      <td>2</td>\n      <td>1</td>\n      <td>1</td>\n      <td>Others</td>\n      <td>Being approximately 5:00 a.m. approximately, w...</td>\n    </tr>\n    <tr>\n      <th>421</th>\n      <td>2017-07-04</td>\n      <td>435</td>\n      <td>0</td>\n      <td>2</td>\n      <td>1</td>\n      <td>0</td>\n      <td>1</td>\n      <td>0</td>\n      <td>0</td>\n      <td>Others</td>\n      <td>The collaborator moved from the infrastructure...</td>\n    </tr>\n    <tr>\n      <th>422</th>\n      <td>2017-07-05</td>\n      <td>436</td>\n      <td>1</td>\n      <td>8</td>\n      <td>0</td>\n      <td>0</td>\n      <td>1</td>\n      <td>1</td>\n      <td>0</td>\n      <td>Venomous Animals</td>\n      <td>During the environmental monitoring activity i...</td>\n    </tr>\n    <tr>\n      <th>423</th>\n      <td>2017-07-06</td>\n      <td>437</td>\n      <td>1</td>\n      <td>4</td>\n      <td>0</td>\n      <td>0</td>\n      <td>1</td>\n      <td>1</td>\n      <td>0</td>\n      <td>Cut</td>\n      <td>The Employee performed the activity of strippi...</td>\n    </tr>\n    <tr>\n      <th>424</th>\n      <td>2017-07-09</td>\n      <td>438</td>\n      <td>0</td>\n      <td>3</td>\n      <td>1</td>\n      <td>0</td>\n      <td>1</td>\n      <td>0</td>\n      <td>1</td>\n      <td>Fall prevention (same level)</td>\n      <td>At 10:00 a.m., when the assistant cleaned the ...</td>\n    </tr>\n  </tbody>\n</table>\n<p>425 rows × 11 columns</p>\n</div>",
            "text/plain": "           date  unnamed: 0  countries  city  industry sector  accident level  \\\n0    2016-01-01           0          0     0                1               0   \n1    2016-01-02           1          1     1                1               0   \n2    2016-01-06           2          0     2                1               0   \n3    2016-01-08           3          0     3                1               0   \n4    2016-01-10           4          0     3                1               3   \n..          ...         ...        ...   ...              ...             ...   \n420  2017-07-04         434          0     3                1               0   \n421  2017-07-04         435          0     2                1               0   \n422  2017-07-05         436          1     8                0               0   \n423  2017-07-06         437          1     4                0               0   \n424  2017-07-09         438          0     3                1               0   \n\n     potential accident level  gender  employee or third party  \\\n0                           3       1                        1   \n1                           3       1                        0   \n2                           2       1                        2   \n3                           0       1                        1   \n4                           3       1                        1   \n..                        ...     ...                      ...   \n420                         2       1                        1   \n421                         1       0                        0   \n422                         1       1                        0   \n423                         1       1                        0   \n424                         1       0                        1   \n\n                    critical risk  \\\n0                         Pressed   \n1             Pressurized Systems   \n2                    Manual Tools   \n3                          Others   \n4                          Others   \n..                            ...   \n420                        Others   \n421                        Others   \n422              Venomous Animals   \n423                           Cut   \n424  Fall prevention (same level)   \n\n                                           description  \n0    While removing the drill rod of the Jumbo 08 f...  \n1    During the activation of a sodium sulphide pum...  \n2    In the sub-station MILPO located at level +170...  \n3    Being 9:45 am. approximately in the Nv. 1880 C...  \n4    Approximately at 11:45 a.m. in circumstances t...  \n..                                                 ...  \n420  Being approximately 5:00 a.m. approximately, w...  \n421  The collaborator moved from the infrastructure...  \n422  During the environmental monitoring activity i...  \n423  The Employee performed the activity of strippi...  \n424  At 10:00 a.m., when the assistant cleaned the ...  \n\n[425 rows x 11 columns]"
          },
          "metadata": {}
        }
      ],
      "execution_count": 56,
      "metadata": {
        "colab": {
          "base_uri": "https://localhost:8080/",
          "height": 424
        },
        "executionInfo": {
          "elapsed": 5,
          "status": "ok",
          "timestamp": 1669401473589,
          "user": {
            "displayName": "Кирилл Сидоров",
            "userId": "17089401133645507049"
          },
          "user_tz": -180
        },
        "id": "HcvkWHKnAzac",
        "outputId": "51d66ce4-66fb-43a9-e08e-c5a525a93ebb"
      }
    },
    {
      "cell_type": "code",
      "source": [
        "sns.set(rc={'figure.figsize':(15,8)})\n",
        "sns.countplot(df['gender'])"
      ],
      "outputs": [
        {
          "output_type": "execute_result",
          "execution_count": 57,
          "data": {
            "text/plain": "<AxesSubplot: ylabel='count'>"
          },
          "metadata": {}
        },
        {
          "output_type": "display_data",
          "data": {
            "image/png": "[encoded data removed]",
            "text/plain": "<Figure size 1500x800 with 1 Axes>"
          },
          "metadata": {}
        }
      ],
      "execution_count": 57,
      "metadata": {
        "colab": {
          "base_uri": "https://localhost:8080/",
          "height": 609
        },
        "executionInfo": {
          "elapsed": 367,
          "status": "ok",
          "timestamp": 1669401473951,
          "user": {
            "displayName": "Кирилл Сидоров",
            "userId": "17089401133645507049"
          },
          "user_tz": -180
        },
        "id": "7BZodPonBm_e",
        "outputId": "87dae913-9c7b-43a9-b23d-4373d97f5502"
      }
    },
    {
      "cell_type": "code",
      "source": [
        "fraud = df[df['gender']==1]\n",
        "valid = df[df['gender']==0]\n",
        "\n",
        "print(\"Normal transactions :\", len(valid))\n",
        "print(\"Fraud  transactions :\", len(fraud))"
      ],
      "outputs": [
        {
          "output_type": "stream",
          "name": "stdout",
          "text": "Normal transactions : 22\nFraud  transactions : 403\n"
        }
      ],
      "execution_count": 58,
      "metadata": {
        "colab": {
          "base_uri": "https://localhost:8080/"
        },
        "executionInfo": {
          "elapsed": 6,
          "status": "ok",
          "timestamp": 1669401473951,
          "user": {
            "displayName": "Кирилл Сидоров",
            "userId": "17089401133645507049"
          },
          "user_tz": -180
        },
        "id": "SL3NDcNxB6OU",
        "outputId": "427c1631-1da8-443e-cf44-f6b32f44dc45"
      }
    },
    {
      "cell_type": "code",
      "source": [
        "from sklearn import preprocessing\n",
        "\n",
        "label_encoder = preprocessing.LabelEncoder()\n",
        "\n",
        "df['gender']= label_encoder.fit_transform(df['gender'])"
      ],
      "outputs": [],
      "execution_count": 59,
      "metadata": {
        "executionInfo": {
          "elapsed": 6,
          "status": "ok",
          "timestamp": 1669401473952,
          "user": {
            "displayName": "Кирилл Сидоров",
            "userId": "17089401133645507049"
          },
          "user_tz": -180
        },
        "id": "d8Bc2szxDDem"
      }
    },
    {
      "cell_type": "code",
      "source": [
        "columns = df.columns.tolist()\n",
        "columns = [c for c in columns if c not in ['gender']]\n",
        "X = df[columns]\n",
        "Y = df['gender']\n",
        "\n",
        "from sklearn.model_selection import train_test_split\n",
        "\n",
        "\n",
        "\n",
        "X_train,X_test,Y_train,Y_test = train_test_split(X,Y,test_size = .20)\n",
        "X_train.pop('date')\n",
        "X_test.pop('date')\n",
        "X_train.pop('critical risk')\n",
        "X_test.pop('critical risk')\n",
        "X_train.pop('description')\n",
        "X_test.pop('description')"
      ],
      "outputs": [
        {
          "output_type": "execute_result",
          "execution_count": 62,
          "data": {
            "text/plain": "397    In moments when the 02 collaborators carried o...\n126    Being 10:50 am. Approximately, in the workshop...\n45     At a time when two assistants were carrying a ...\n326    During the maintenance of the peristaltic pump...\n214    When cutting the vegetation to open the bite, ...\n                             ...                        \n14     Due to the accumulation of Waelz on the convey...\n333    At the conclusion of the unloading of ore with...\n231    At the intersection of level 3970 - main road ...\n267    At 18:40 hours, in moments when Mr. Claudio ti...\n52     In circumstances that two workers of the compa...\nName: description, Length: 85, dtype: object"
          },
          "metadata": {}
        }
      ],
      "execution_count": 62,
      "metadata": {
        "colab": {
          "base_uri": "https://localhost:8080/"
        },
        "executionInfo": {
          "elapsed": 245,
          "status": "ok",
          "timestamp": 1669401493611,
          "user": {
            "displayName": "Кирилл Сидоров",
            "userId": "17089401133645507049"
          },
          "user_tz": -180
        },
        "id": "xUCWbKn-DJdm",
        "outputId": "2c65e88a-00e9-4842-9780-076884634908"
      }
    },
    {
      "cell_type": "code",
      "source": [
        "clf = IsolationForest(max_samples=len(X_train))\n",
        "\n",
        "clf.fit(X_train)\n",
        "\n",
        "y_pred = clf.predict(X_test)"
      ],
      "outputs": [],
      "execution_count": 63,
      "metadata": {
        "executionInfo": {
          "elapsed": 245,
          "status": "ok",
          "timestamp": 1669401496581,
          "user": {
            "displayName": "Кирилл Сидоров",
            "userId": "17089401133645507049"
          },
          "user_tz": -180
        },
        "id": "GN8mT7GaDRry"
      }
    },
    {
      "cell_type": "code",
      "source": [
        "y_pred[y_pred==1] = 0\n",
        "y_pred[y_pred==-1] = 1"
      ],
      "outputs": [],
      "execution_count": 64,
      "metadata": {
        "executionInfo": {
          "elapsed": 245,
          "status": "ok",
          "timestamp": 1669401499536,
          "user": {
            "displayName": "Кирилл Сидоров",
            "userId": "17089401133645507049"
          },
          "user_tz": -180
        },
        "id": "nvYbsVAkDXMv"
      }
    },
    {
      "cell_type": "code",
      "source": [
        "from sklearn.metrics import accuracy_score\n",
        "\n",
        "print(accuracy_score(y_pred,Y_test))"
      ],
      "outputs": [
        {
          "output_type": "stream",
          "name": "stdout",
          "text": "0.36470588235294116\n"
        }
      ],
      "execution_count": 65,
      "metadata": {
        "colab": {
          "base_uri": "https://localhost:8080/"
        },
        "executionInfo": {
          "elapsed": 1,
          "status": "ok",
          "timestamp": 1669401500539,
          "user": {
            "displayName": "Кирилл Сидоров",
            "userId": "17089401133645507049"
          },
          "user_tz": -180
        },
        "id": "iVvQHSmADpPr",
        "outputId": "ae09ef8e-7480-4d5b-b694-f56ff51ce5da"
      }
    },
    {
      "cell_type": "code",
      "source": [
        "fig = px.scatter([i for i in range(len(df['accident level']))], y=df['potential accident level'])\n",
        "fig.show()"
      ],
      "outputs": [
        {
          "output_type": "display_data",
          "data": {
            "application/vnd.plotly.v1+json": {
              "config": {
                "plotlyServerURL": "https://plot.ly"
              },
              "data": [
                {
                  "hovertemplate": "index=%{x}<br>y=%{y}<extra></extra>",
                  "legendgroup": "",
                  "marker": {
                    "color": "#636efa",
                    "symbol": "circle"
                  },
                  "mode": "markers",
                  "name": "",
                  "orientation": "v",
                  "showlegend": false,
                  "type": "scatter",
                  "x": [
                    0,
                    1,
                    2,
                    3,
                    4,
                    5,
                    6,
                    7,
                    8,
                    9,
                    10,
                    11,
                    12,
                    13,
                    14,
                    15,
                    16,
                    17,
                    18,
                    19,
                    20,
                    21,
                    22,
                    23,
                    24,
                    25,
                    26,
                    27,
                    28,
                    29,
                    30,
                    31,
                    32,
                    33,
                    34,
                    35,
                    36,
                    37,
                    38,
                    39,
                    40,
                    41,
                    42,
                    43,
                    44,
                    45,
                    46,
                    47,
                    48,
                    49,
                    50,
                    51,
                    52,
                    53,
                    54,
                    55,
                    56,
                    57,
                    58,
                    59,
                    60,
                    61,
                    62,
                    63,
                    64,
                    65,
                    66,
                    67,
                    68,
                    69,
                    70,
                    71,
                    72,
                    73,
                    74,
                    75,
                    76,
                    77,
                    78,
                    79,
                    80,
                    81,
                    82,
                    83,
                    84,
                    85,
                    86,
                    87,
                    88,
                    89,
                    90,
                    91,
                    92,
                    93,
                    94,
                    95,
                    96,
                    97,
                    98,
                    99,
                    100,
                    101,
                    102,
                    103,
                    104,
                    105,
                    106,
                    107,
                    108,
                    109,
                    110,
                    111,
                    112,
                    113,
                    114,
                    115,
                    116,
                    117,
                    118,
                    119,
                    120,
                    121,
                    122,
                    123,
                    124,
                    125,
                    126,
                    127,
                    128,
                    129,
                    130,
                    131,
                    132,
                    133,
                    134,
                    135,
                    136,
                    137,
                    138,
                    139,
                    140,
                    141,
                    142,
                    143,
                    144,
                    145,
                    146,
                    147,
                    148,
                    149,
                    150,
                    151,
                    152,
                    153,
                    154,
                    155,
                    156,
                    157,
                    158,
                    159,
                    160,
                    161,
                    162,
                    163,
                    164,
                    165,
                    166,
                    167,
                    168,
                    169,
                    170,
                    171,
                    172,
                    173,
                    174,
                    175,
                    176,
                    177,
                    178,
                    179,
                    180,
                    181,
                    182,
                    183,
                    184,
                    185,
                    186,
                    187,
                    188,
                    189,
                    190,
                    191,
                    192,
                    193,
                    194,
                    195,
                    196,
                    197,
                    198,
                    199,
                    200,
                    201,
                    202,
                    203,
                    204,
                    205,
                    206,
                    207,
                    208,
                    209,
                    210,
                    211,
                    212,
                    213,
                    214,
                    215,
                    216,
                    217,
                    218,
                    219,
                    220,
                    221,
                    222,
                    223,
                    224,
                    225,
                    226,
                    227,
                    228,
                    229,
                    230,
                    231,
                    232,
                    233,
                    234,
                    235,
                    236,
                    237,
                    238,
                    239,
                    240,
                    241,
                    242,
                    243,
                    244,
                    245,
                    246,
                    247,
                    248,
                    249,
                    250,
                    251,
                    252,
                    253,
                    254,
                    255,
                    256,
                    257,
                    258,
                    259,
                    260,
                    261,
                    262,
                    263,
                    264,
                    265,
                    266,
                    267,
                    268,
                    269,
                    270,
                    271,
                    272,
                    273,
                    274,
                    275,
                    276,
                    277,
                    278,
                    279,
                    280,
                    281,
                    282,
                    283,
                    284,
                    285,
                    286,
                    287,
                    288,
                    289,
                    290,
                    291,
                    292,
                    293,
                    294,
                    295,
                    296,
                    297,
                    298,
                    299,
                    300,
                    301,
                    302,
                    303,
                    304,
                    305,
                    306,
                    307,
                    308,
                    309,
                    310,
                    311,
                    312,
                    313,
                    314,
                    315,
                    316,
                    317,
                    318,
                    319,
                    320,
                    321,
                    322,
                    323,
                    324,
                    325,
                    326,
                    327,
                    328,
                    329,
                    330,
                    331,
                    332,
                    333,
                    334,
                    335,
                    336,
                    337,
                    338,
                    339,
                    340,
                    341,
                    342,
                    343,
                    344,
                    345,
                    346,
                    347,
                    348,
                    349,
                    350,
                    351,
                    352,
                    353,
                    354,
                    355,
                    356,
                    357,
                    358,
                    359,
                    360,
                    361,
                    362,
                    363,
                    364,
                    365,
                    366,
                    367,
                    368,
                    369,
                    370,
                    371,
                    372,
                    373,
                    374,
                    375,
                    376,
                    377,
                    378,
                    379,
                    380,
                    381,
                    382,
                    383,
                    384,
                    385,
                    386,
                    387,
                    388,
                    389,
                    390,
                    391,
                    392,
                    393,
                    394,
                    395,
                    396,
                    397,
                    398,
                    399,
                    400,
                    401,
                    402,
                    403,
                    404,
                    405,
                    406,
                    407,
                    408,
                    409,
                    410,
                    411,
                    412,
                    413,
                    414,
                    415,
                    416,
                    417,
                    418,
                    419,
                    420,
                    421,
                    422,
                    423,
                    424
                  ],
                  "xaxis": "x",
                  "y": [
                    3,
                    3,
                    2,
                    0,
                    3,
                    2,
                    2,
                    2,
                    3,
                    1,
                    2,
                    3,
                    0,
                    4,
                    2,
                    3,
                    3,
                    1,
                    1,
                    2,
                    1,
                    3,
                    3,
                    1,
                    1,
                    1,
                    0,
                    2,
                    3,
                    2,
                    1,
                    1,
                    3,
                    4,
                    1,
                    2,
                    3,
                    4,
                    4,
                    3,
                    3,
                    3,
                    2,
                    2,
                    2,
                    2,
                    2,
                    3,
                    2,
                    3,
                    3,
                    4,
                    4,
                    3,
                    3,
                    2,
                    2,
                    1,
                    1,
                    1,
                    1,
                    3,
                    2,
                    3,
                    3,
                    3,
                    1,
                    3,
                    3,
                    3,
                    2,
                    2,
                    2,
                    2,
                    4,
                    2,
                    4,
                    4,
                    1,
                    3,
                    0,
                    1,
                    3,
                    2,
                    2,
                    1,
                    3,
                    3,
                    3,
                    2,
                    1,
                    2,
                    2,
                    1,
                    3,
                    2,
                    4,
                    1,
                    2,
                    3,
                    1,
                    2,
                    3,
                    3,
                    1,
                    3,
                    3,
                    3,
                    0,
                    3,
                    2,
                    2,
                    2,
                    2,
                    1,
                    2,
                    1,
                    3,
                    3,
                    1,
                    3,
                    2,
                    2,
                    0,
                    3,
                    3,
                    2,
                    2,
                    4,
                    0,
                    0,
                    0,
                    2,
                    2,
                    1,
                    4,
                    1,
                    2,
                    0,
                    2,
                    0,
                    2,
                    3,
                    0,
                    0,
                    2,
                    3,
                    3,
                    0,
                    0,
                    0,
                    0,
                    0,
                    0,
                    4,
                    3,
                    2,
                    2,
                    1,
                    2,
                    3,
                    3,
                    4,
                    3,
                    1,
                    1,
                    4,
                    3,
                    3,
                    3,
                    3,
                    3,
                    1,
                    1,
                    3,
                    2,
                    2,
                    1,
                    1,
                    3,
                    3,
                    1,
                    2,
                    2,
                    0,
                    2,
                    1,
                    3,
                    3,
                    3,
                    3,
                    2,
                    3,
                    2,
                    2,
                    2,
                    1,
                    3,
                    1,
                    1,
                    1,
                    1,
                    1,
                    3,
                    0,
                    2,
                    3,
                    3,
                    1,
                    1,
                    1,
                    3,
                    3,
                    1,
                    0,
                    1,
                    3,
                    0,
                    1,
                    1,
                    2,
                    2,
                    3,
                    2,
                    1,
                    1,
                    0,
                    2,
                    1,
                    2,
                    1,
                    3,
                    2,
                    1,
                    3,
                    3,
                    2,
                    1,
                    3,
                    3,
                    3,
                    2,
                    3,
                    3,
                    3,
                    3,
                    3,
                    3,
                    4,
                    3,
                    1,
                    3,
                    1,
                    3,
                    0,
                    3,
                    1,
                    1,
                    0,
                    2,
                    1,
                    3,
                    3,
                    3,
                    3,
                    2,
                    2,
                    1,
                    1,
                    1,
                    2,
                    1,
                    1,
                    2,
                    3,
                    1,
                    2,
                    3,
                    1,
                    3,
                    2,
                    1,
                    3,
                    4,
                    3,
                    1,
                    3,
                    2,
                    0,
                    3,
                    2,
                    3,
                    2,
                    2,
                    3,
                    1,
                    3,
                    2,
                    3,
                    3,
                    3,
                    2,
                    0,
                    0,
                    3,
                    2,
                    0,
                    5,
                    2,
                    2,
                    2,
                    2,
                    3,
                    1,
                    2,
                    1,
                    1,
                    4,
                    3,
                    1,
                    0,
                    2,
                    2,
                    4,
                    0,
                    2,
                    3,
                    3,
                    4,
                    0,
                    1,
                    2,
                    2,
                    3,
                    3,
                    2,
                    3,
                    2,
                    0,
                    2,
                    3,
                    3,
                    3,
                    0,
                    0,
                    0,
                    0,
                    4,
                    2,
                    0,
                    4,
                    4,
                    2,
                    3,
                    0,
                    0,
                    3,
                    4,
                    4,
                    4,
                    0,
                    3,
                    2,
                    3,
                    2,
                    0,
                    1,
                    3,
                    1,
                    0,
                    3,
                    3,
                    1,
                    1,
                    0,
                    2,
                    3,
                    1,
                    0,
                    4,
                    3,
                    4,
                    1,
                    2,
                    1,
                    1,
                    3,
                    4,
                    4,
                    4,
                    2,
                    3,
                    0,
                    0,
                    3,
                    1,
                    3,
                    3,
                    3,
                    1,
                    3,
                    3,
                    2,
                    1,
                    1,
                    1,
                    3,
                    3,
                    3,
                    3,
                    3,
                    2,
                    3,
                    3,
                    1,
                    1,
                    3,
                    3,
                    0,
                    2,
                    2,
                    1,
                    1,
                    1,
                    1
                  ],
                  "yaxis": "y"
                }
              ],
              "layout": {
                "legend": {
                  "tracegroupgap": 0
                },
                "margin": {
                  "t": 60
                },
                "template": {
                  "data": {
                    "bar": [
                      {
                        "error_x": {
                          "color": "#2a3f5f"
                        },
                        "error_y": {
                          "color": "#2a3f5f"
                        },
                        "marker": {
                          "line": {
                            "color": "#E5ECF6",
                            "width": 0.5
                          },
                          "pattern": {
                            "fillmode": "overlay",
                            "size": 10,
                            "solidity": 0.2
                          }
                        },
                        "type": "bar"
                      }
                    ],
                    "barpolar": [
                      {
                        "marker": {
                          "line": {
                            "color": "#E5ECF6",
                            "width": 0.5
                          },
                          "pattern": {
                            "fillmode": "overlay",
                            "size": 10,
                            "solidity": 0.2
                          }
                        },
                        "type": "barpolar"
                      }
                    ],
                    "carpet": [
                      {
                        "aaxis": {
                          "endlinecolor": "#2a3f5f",
                          "gridcolor": "white",
                          "linecolor": "white",
                          "minorgridcolor": "white",
                          "startlinecolor": "#2a3f5f"
                        },
                        "baxis": {
                          "endlinecolor": "#2a3f5f",
                          "gridcolor": "white",
                          "linecolor": "white",
                          "minorgridcolor": "white",
                          "startlinecolor": "#2a3f5f"
                        },
                        "type": "carpet"
                      }
                    ],
                    "choropleth": [
                      {
                        "colorbar": {
                          "outlinewidth": 0,
                          "ticks": ""
                        },
                        "type": "choropleth"
                      }
                    ],
                    "contour": [
                      {
                        "colorbar": {
                          "outlinewidth": 0,
                          "ticks": ""
                        },
                        "colorscale": [
                          [
                            0,
                            "#0d0887"
                          ],
                          [
                            0.1111111111111111,
                            "#46039f"
                          ],
                          [
                            0.2222222222222222,
                            "#7201a8"
                          ],
                          [
                            0.3333333333333333,
                            "#9c179e"
                          ],
                          [
                            0.4444444444444444,
                            "#bd3786"
                          ],
                          [
                            0.5555555555555556,
                            "#d8576b"
                          ],
                          [
                            0.6666666666666666,
                            "#ed7953"
                          ],
                          [
                            0.7777777777777778,
                            "#fb9f3a"
                          ],
                          [
                            0.8888888888888888,
                            "#fdca26"
                          ],
                          [
                            1,
                            "#f0f921"
                          ]
                        ],
                        "type": "contour"
                      }
                    ],
                    "contourcarpet": [
                      {
                        "colorbar": {
                          "outlinewidth": 0,
                          "ticks": ""
                        },
                        "type": "contourcarpet"
                      }
                    ],
                    "heatmap": [
                      {
                        "colorbar": {
                          "outlinewidth": 0,
                          "ticks": ""
                        },
                        "colorscale": [
                          [
                            0,
                            "#0d0887"
                          ],
                          [
                            0.1111111111111111,
                            "#46039f"
                          ],
                          [
                            0.2222222222222222,
                            "#7201a8"
                          ],
                          [
                            0.3333333333333333,
                            "#9c179e"
                          ],
                          [
                            0.4444444444444444,
                            "#bd3786"
                          ],
                          [
                            0.5555555555555556,
                            "#d8576b"
                          ],
                          [
                            0.6666666666666666,
                            "#ed7953"
                          ],
                          [
                            0.7777777777777778,
                            "#fb9f3a"
                          ],
                          [
                            0.8888888888888888,
                            "#fdca26"
                          ],
                          [
                            1,
                            "#f0f921"
                          ]
                        ],
                        "type": "heatmap"
                      }
                    ],
                    "heatmapgl": [
                      {
                        "colorbar": {
                          "outlinewidth": 0,
                          "ticks": ""
                        },
                        "colorscale": [
                          [
                            0,
                            "#0d0887"
                          ],
                          [
                            0.1111111111111111,
                            "#46039f"
                          ],
                          [
                            0.2222222222222222,
                            "#7201a8"
                          ],
                          [
                            0.3333333333333333,
                            "#9c179e"
                          ],
                          [
                            0.4444444444444444,
                            "#bd3786"
                          ],
                          [
                            0.5555555555555556,
                            "#d8576b"
                          ],
                          [
                            0.6666666666666666,
                            "#ed7953"
                          ],
                          [
                            0.7777777777777778,
                            "#fb9f3a"
                          ],
                          [
                            0.8888888888888888,
                            "#fdca26"
                          ],
                          [
                            1,
                            "#f0f921"
                          ]
                        ],
                        "type": "heatmapgl"
                      }
                    ],
                    "histogram": [
                      {
                        "marker": {
                          "pattern": {
                            "fillmode": "overlay",
                            "size": 10,
                            "solidity": 0.2
                          }
                        },
                        "type": "histogram"
                      }
                    ],
                    "histogram2d": [
                      {
                        "colorbar": {
                          "outlinewidth": 0,
                          "ticks": ""
                        },
                        "colorscale": [
                          [
                            0,
                            "#0d0887"
                          ],
                          [
                            0.1111111111111111,
                            "#46039f"
                          ],
                          [
                            0.2222222222222222,
                            "#7201a8"
                          ],
                          [
                            0.3333333333333333,
                            "#9c179e"
                          ],
                          [
                            0.4444444444444444,
                            "#bd3786"
                          ],
                          [
                            0.5555555555555556,
                            "#d8576b"
                          ],
                          [
                            0.6666666666666666,
                            "#ed7953"
                          ],
                          [
                            0.7777777777777778,
                            "#fb9f3a"
                          ],
                          [
                            0.8888888888888888,
                            "#fdca26"
                          ],
                          [
                            1,
                            "#f0f921"
                          ]
                        ],
                        "type": "histogram2d"
                      }
                    ],
                    "histogram2dcontour": [
                      {
                        "colorbar": {
                          "outlinewidth": 0,
                          "ticks": ""
                        },
                        "colorscale": [
                          [
                            0,
                            "#0d0887"
                          ],
                          [
                            0.1111111111111111,
                            "#46039f"
                          ],
                          [
                            0.2222222222222222,
                            "#7201a8"
                          ],
                          [
                            0.3333333333333333,
                            "#9c179e"
                          ],
                          [
                            0.4444444444444444,
                            "#bd3786"
                          ],
                          [
                            0.5555555555555556,
                            "#d8576b"
                          ],
                          [
                            0.6666666666666666,
                            "#ed7953"
                          ],
                          [
                            0.7777777777777778,
                            "#fb9f3a"
                          ],
                          [
                            0.8888888888888888,
                            "#fdca26"
                          ],
                          [
                            1,
                            "#f0f921"
                          ]
                        ],
                        "type": "histogram2dcontour"
                      }
                    ],
                    "mesh3d": [
                      {
                        "colorbar": {
                          "outlinewidth": 0,
                          "ticks": ""
                        },
                        "type": "mesh3d"
                      }
                    ],
                    "parcoords": [
                      {
                        "line": {
                          "colorbar": {
                            "outlinewidth": 0,
                            "ticks": ""
                          }
                        },
                        "type": "parcoords"
                      }
                    ],
                    "pie": [
                      {
                        "automargin": true,
                        "type": "pie"
                      }
                    ],
                    "scatter": [
                      {
                        "fillpattern": {
                          "fillmode": "overlay",
                          "size": 10,
                          "solidity": 0.2
                        },
                        "type": "scatter"
                      }
                    ],
                    "scatter3d": [
                      {
                        "line": {
                          "colorbar": {
                            "outlinewidth": 0,
                            "ticks": ""
                          }
                        },
                        "marker": {
                          "colorbar": {
                            "outlinewidth": 0,
                            "ticks": ""
                          }
                        },
                        "type": "scatter3d"
                      }
                    ],
                    "scattercarpet": [
                      {
                        "marker": {
                          "colorbar": {
                            "outlinewidth": 0,
                            "ticks": ""
                          }
                        },
                        "type": "scattercarpet"
                      }
                    ],
                    "scattergeo": [
                      {
                        "marker": {
                          "colorbar": {
                            "outlinewidth": 0,
                            "ticks": ""
                          }
                        },
                        "type": "scattergeo"
                      }
                    ],
                    "scattergl": [
                      {
                        "marker": {
                          "colorbar": {
                            "outlinewidth": 0,
                            "ticks": ""
                          }
                        },
                        "type": "scattergl"
                      }
                    ],
                    "scattermapbox": [
                      {
                        "marker": {
                          "colorbar": {
                            "outlinewidth": 0,
                            "ticks": ""
                          }
                        },
                        "type": "scattermapbox"
                      }
                    ],
                    "scatterpolar": [
                      {
                        "marker": {
                          "colorbar": {
                            "outlinewidth": 0,
                            "ticks": ""
                          }
                        },
                        "type": "scatterpolar"
                      }
                    ],
                    "scatterpolargl": [
                      {
                        "marker": {
                          "colorbar": {
                            "outlinewidth": 0,
                            "ticks": ""
                          }
                        },
                        "type": "scatterpolargl"
                      }
                    ],
                    "scatterternary": [
                      {
                        "marker": {
                          "colorbar": {
                            "outlinewidth": 0,
                            "ticks": ""
                          }
                        },
                        "type": "scatterternary"
                      }
                    ],
                    "surface": [
                      {
                        "colorbar": {
                          "outlinewidth": 0,
                          "ticks": ""
                        },
                        "colorscale": [
                          [
                            0,
                            "#0d0887"
                          ],
                          [
                            0.1111111111111111,
                            "#46039f"
                          ],
                          [
                            0.2222222222222222,
                            "#7201a8"
                          ],
                          [
                            0.3333333333333333,
                            "#9c179e"
                          ],
                          [
                            0.4444444444444444,
                            "#bd3786"
                          ],
                          [
                            0.5555555555555556,
                            "#d8576b"
                          ],
                          [
                            0.6666666666666666,
                            "#ed7953"
                          ],
                          [
                            0.7777777777777778,
                            "#fb9f3a"
                          ],
                          [
                            0.8888888888888888,
                            "#fdca26"
                          ],
                          [
                            1,
                            "#f0f921"
                          ]
                        ],
                        "type": "surface"
                      }
                    ],
                    "table": [
                      {
                        "cells": {
                          "fill": {
                            "color": "#EBF0F8"
                          },
                          "line": {
                            "color": "white"
                          }
                        },
                        "header": {
                          "fill": {
                            "color": "#C8D4E3"
                          },
                          "line": {
                            "color": "white"
                          }
                        },
                        "type": "table"
                      }
                    ]
                  },
                  "layout": {
                    "annotationdefaults": {
                      "arrowcolor": "#2a3f5f",
                      "arrowhead": 0,
                      "arrowwidth": 1
                    },
                    "autotypenumbers": "strict",
                    "coloraxis": {
                      "colorbar": {
                        "outlinewidth": 0,
                        "ticks": ""
                      }
                    },
                    "colorscale": {
                      "diverging": [
                        [
                          0,
                          "#8e0152"
                        ],
                        [
                          0.1,
                          "#c51b7d"
                        ],
                        [
                          0.2,
                          "#de77ae"
                        ],
                        [
                          0.3,
                          "#f1b6da"
                        ],
                        [
                          0.4,
                          "#fde0ef"
                        ],
                        [
                          0.5,
                          "#f7f7f7"
                        ],
                        [
                          0.6,
                          "#e6f5d0"
                        ],
                        [
                          0.7,
                          "#b8e186"
                        ],
                        [
                          0.8,
                          "#7fbc41"
                        ],
                        [
                          0.9,
                          "#4d9221"
                        ],
                        [
                          1,
                          "#276419"
                        ]
                      ],
                      "sequential": [
                        [
                          0,
                          "#0d0887"
                        ],
                        [
                          0.1111111111111111,
                          "#46039f"
                        ],
                        [
                          0.2222222222222222,
                          "#7201a8"
                        ],
                        [
                          0.3333333333333333,
                          "#9c179e"
                        ],
                        [
                          0.4444444444444444,
                          "#bd3786"
                        ],
                        [
                          0.5555555555555556,
                          "#d8576b"
                        ],
                        [
                          0.6666666666666666,
                          "#ed7953"
                        ],
                        [
                          0.7777777777777778,
                          "#fb9f3a"
                        ],
                        [
                          0.8888888888888888,
                          "#fdca26"
                        ],
                        [
                          1,
                          "#f0f921"
                        ]
                      ],
                      "sequentialminus": [
                        [
                          0,
                          "#0d0887"
                        ],
                        [
                          0.1111111111111111,
                          "#46039f"
                        ],
                        [
                          0.2222222222222222,
                          "#7201a8"
                        ],
                        [
                          0.3333333333333333,
                          "#9c179e"
                        ],
                        [
                          0.4444444444444444,
                          "#bd3786"
                        ],
                        [
                          0.5555555555555556,
                          "#d8576b"
                        ],
                        [
                          0.6666666666666666,
                          "#ed7953"
                        ],
                        [
                          0.7777777777777778,
                          "#fb9f3a"
                        ],
                        [
                          0.8888888888888888,
                          "#fdca26"
                        ],
                        [
                          1,
                          "#f0f921"
                        ]
                      ]
                    },
                    "colorway": [
                      "#636efa",
                      "#EF553B",
                      "#00cc96",
                      "#ab63fa",
                      "#FFA15A",
                      "#19d3f3",
                      "#FF6692",
                      "#B6E880",
                      "#FF97FF",
                      "#FECB52"
                    ],
                    "font": {
                      "color": "#2a3f5f"
                    },
                    "geo": {
                      "bgcolor": "white",
                      "lakecolor": "white",
                      "landcolor": "#E5ECF6",
                      "showlakes": true,
                      "showland": true,
                      "subunitcolor": "white"
                    },
                    "hoverlabel": {
                      "align": "left"
                    },
                    "hovermode": "closest",
                    "mapbox": {
                      "style": "light"
                    },
                    "paper_bgcolor": "white",
                    "plot_bgcolor": "#E5ECF6",
                    "polar": {
                      "angularaxis": {
                        "gridcolor": "white",
                        "linecolor": "white",
                        "ticks": ""
                      },
                      "bgcolor": "#E5ECF6",
                      "radialaxis": {
                        "gridcolor": "white",
                        "linecolor": "white",
                        "ticks": ""
                      }
                    },
                    "scene": {
                      "xaxis": {
                        "backgroundcolor": "#E5ECF6",
                        "gridcolor": "white",
                        "gridwidth": 2,
                        "linecolor": "white",
                        "showbackground": true,
                        "ticks": "",
                        "zerolinecolor": "white"
                      },
                      "yaxis": {
                        "backgroundcolor": "#E5ECF6",
                        "gridcolor": "white",
                        "gridwidth": 2,
                        "linecolor": "white",
                        "showbackground": true,
                        "ticks": "",
                        "zerolinecolor": "white"
                      },
                      "zaxis": {
                        "backgroundcolor": "#E5ECF6",
                        "gridcolor": "white",
                        "gridwidth": 2,
                        "linecolor": "white",
                        "showbackground": true,
                        "ticks": "",
                        "zerolinecolor": "white"
                      }
                    },
                    "shapedefaults": {
                      "line": {
                        "color": "#2a3f5f"
                      }
                    },
                    "ternary": {
                      "aaxis": {
                        "gridcolor": "white",
                        "linecolor": "white",
                        "ticks": ""
                      },
                      "baxis": {
                        "gridcolor": "white",
                        "linecolor": "white",
                        "ticks": ""
                      },
                      "bgcolor": "#E5ECF6",
                      "caxis": {
                        "gridcolor": "white",
                        "linecolor": "white",
                        "ticks": ""
                      }
                    },
                    "title": {
                      "x": 0.05
                    },
                    "xaxis": {
                      "automargin": true,
                      "gridcolor": "white",
                      "linecolor": "white",
                      "ticks": "",
                      "title": {
                        "standoff": 15
                      },
                      "zerolinecolor": "white",
                      "zerolinewidth": 2
                    },
                    "yaxis": {
                      "automargin": true,
                      "gridcolor": "white",
                      "linecolor": "white",
                      "ticks": "",
                      "title": {
                        "standoff": 15
                      },
                      "zerolinecolor": "white",
                      "zerolinewidth": 2
                    }
                  }
                },
                "xaxis": {
                  "anchor": "y",
                  "domain": [
                    0,
                    1
                  ],
                  "title": {
                    "text": "index"
                  }
                },
                "yaxis": {
                  "anchor": "x",
                  "domain": [
                    0,
                    1
                  ],
                  "title": {
                    "text": "y"
                  }
                }
              }
            }
          },
          "metadata": {}
        }
      ],
      "execution_count": 66,
      "metadata": {
        "executionInfo": {
          "elapsed": 5,
          "status": "aborted",
          "timestamp": 1669401474208,
          "user": {
            "displayName": "Кирилл Сидоров",
            "userId": "17089401133645507049"
          },
          "user_tz": -180
        },
        "id": "dmCCK09LZCjF"
      }
    },
    {
      "cell_type": "code",
      "source": [
        "df_numeric=df.select_dtypes(include=[np.number])\n",
        "numeric_cols=df_numeric.columns.values\n",
        "print(numeric_cols)"
      ],
      "outputs": [
        {
          "output_type": "stream",
          "name": "stdout",
          "text": "['unnamed: 0' 'countries' 'city' 'industry sector' 'accident level'\n 'potential accident level' 'gender' 'employee or third party']\n"
        }
      ],
      "execution_count": 67,
      "metadata": {
        "executionInfo": {
          "elapsed": 5,
          "status": "aborted",
          "timestamp": 1669401474208,
          "user": {
            "displayName": "Кирилл Сидоров",
            "userId": "17089401133645507049"
          },
          "user_tz": -180
        },
        "id": "y2ci4i2XZbFG"
      }
    },
    {
      "cell_type": "code",
      "source": [
        "from sklearn.ensemble import IsolationForest\n",
        "\n",
        "#инициализация Isolation Forest\n",
        "isolation_model = IsolationForest(contamination = 0.003)\n",
        "\n",
        "#тренировка модели\n",
        "isolation_model.fit(df_numeric)\n",
        "\n",
        "#создание предсказаний\n",
        "IF_predictions = isolation_model.predict(df_numeric)"
      ],
      "outputs": [
        {
          "output_type": "stream",
          "name": "stderr",
          "text": "C:\\Users\\grias\\AppData\\Local\\Packages\\PythonSoftwareFoundation.Python.3.10_qbz5n2kfra8p0\\LocalCache\\local-packages\\Python310\\site-packages\\sklearn\\base.py:409: UserWarning:\n\nX does not have valid feature names, but IsolationForest was fitted with feature names\n\n"
        }
      ],
      "execution_count": 68,
      "metadata": {
        "executionInfo": {
          "elapsed": 6,
          "status": "aborted",
          "timestamp": 1669401474209,
          "user": {
            "displayName": "Кирилл Сидоров",
            "userId": "17089401133645507049"
          },
          "user_tz": -180
        },
        "id": "nZ_Aq67WZQfu"
      }
    },
    {
      "cell_type": "code",
      "source": [
        "#добавление аномалий в датасет\n",
        "df['anomalies'] = IF_predictions\n",
        "anomalies = df.query('anomalies == -1')\n",
        "\n",
        "import plotly.graph_objects as go\n",
        "\n",
        "#строю график для выбросов\n",
        "normal = go.Scatter(x=df.index.astype(str),y=df['accident level'],name=\"df\",mode='markers')\n",
        "outlier = go.Scatter(x=anomalies.index.astype(str),y=anomalies['accident level'],name=\"Anomalies\",mode='markers',\n",
        "                marker=dict(color='red', size=6,\n",
        "                            line=dict(color='red', width=1)))\n",
        "\n",
        "# обозначения графика\n",
        "layout = go.Layout(title=\"Isolation Forest\",yaxis_title='accident level',xaxis_title='x-axis',)\n",
        "\n",
        "#строю график\n",
        "data = [normal, outlier]\n",
        "fig = go.Figure(data=data, layout=layout)\n",
        "fig.show()"
      ],
      "outputs": [
        {
          "output_type": "display_data",
          "data": {
            "application/vnd.plotly.v1+json": {
              "config": {
                "plotlyServerURL": "https://plot.ly"
              },
              "data": [
                {
                  "mode": "markers",
                  "name": "df",
                  "type": "scatter",
                  "x": [
                    "0",
                    "1",
                    "2",
                    "3",
                    "4",
                    "5",
                    "6",
                    "7",
                    "8",
                    "9",
                    "10",
                    "11",
                    "12",
                    "13",
                    "14",
                    "15",
                    "16",
                    "17",
                    "18",
                    "19",
                    "20",
                    "21",
                    "22",
                    "23",
                    "24",
                    "25",
                    "26",
                    "27",
                    "28",
                    "29",
                    "30",
                    "31",
                    "32",
                    "33",
                    "34",
                    "35",
                    "36",
                    "37",
                    "38",
                    "39",
                    "40",
                    "41",
                    "42",
                    "43",
                    "44",
                    "45",
                    "46",
                    "47",
                    "48",
                    "49",
                    "50",
                    "51",
                    "52",
                    "53",
                    "54",
                    "55",
                    "56",
                    "57",
                    "58",
                    "59",
                    "60",
                    "61",
                    "62",
                    "63",
                    "64",
                    "65",
                    "66",
                    "67",
                    "68",
                    "69",
                    "70",
                    "71",
                    "72",
                    "73",
                    "74",
                    "75",
                    "76",
                    "77",
                    "78",
                    "79",
                    "80",
                    "81",
                    "82",
                    "83",
                    "84",
                    "85",
                    "86",
                    "87",
                    "88",
                    "89",
                    "90",
                    "91",
                    "92",
                    "93",
                    "94",
                    "95",
                    "96",
                    "97",
                    "98",
                    "99",
                    "100",
                    "101",
                    "102",
                    "103",
                    "104",
                    "105",
                    "106",
                    "107",
                    "108",
                    "109",
                    "110",
                    "111",
                    "112",
                    "113",
                    "114",
                    "115",
                    "116",
                    "117",
                    "118",
                    "119",
                    "120",
                    "121",
                    "122",
                    "123",
                    "124",
                    "125",
                    "126",
                    "127",
                    "128",
                    "129",
                    "130",
                    "131",
                    "132",
                    "133",
                    "134",
                    "135",
                    "136",
                    "137",
                    "138",
                    "139",
                    "140",
                    "141",
                    "142",
                    "143",
                    "144",
                    "145",
                    "146",
                    "147",
                    "148",
                    "149",
                    "150",
                    "151",
                    "152",
                    "153",
                    "154",
                    "155",
                    "156",
                    "157",
                    "158",
                    "159",
                    "160",
                    "161",
                    "162",
                    "163",
                    "164",
                    "165",
                    "166",
                    "167",
                    "168",
                    "169",
                    "170",
                    "171",
                    "172",
                    "173",
                    "174",
                    "175",
                    "176",
                    "177",
                    "178",
                    "179",
                    "180",
                    "181",
                    "182",
                    "183",
                    "184",
                    "185",
                    "186",
                    "187",
                    "188",
                    "189",
                    "190",
                    "191",
                    "192",
                    "193",
                    "194",
                    "195",
                    "196",
                    "197",
                    "198",
                    "199",
                    "200",
                    "201",
                    "202",
                    "203",
                    "204",
                    "205",
                    "206",
                    "207",
                    "208",
                    "209",
                    "210",
                    "211",
                    "212",
                    "213",
                    "214",
                    "215",
                    "216",
                    "217",
                    "218",
                    "219",
                    "220",
                    "221",
                    "222",
                    "223",
                    "224",
                    "225",
                    "226",
                    "227",
                    "228",
                    "229",
                    "230",
                    "231",
                    "232",
                    "233",
                    "234",
                    "235",
                    "236",
                    "237",
                    "238",
                    "239",
                    "240",
                    "241",
                    "242",
                    "243",
                    "244",
                    "245",
                    "246",
                    "247",
                    "248",
                    "249",
                    "250",
                    "251",
                    "252",
                    "253",
                    "254",
                    "255",
                    "256",
                    "257",
                    "258",
                    "259",
                    "260",
                    "261",
                    "262",
                    "263",
                    "264",
                    "265",
                    "266",
                    "267",
                    "268",
                    "269",
                    "270",
                    "271",
                    "272",
                    "273",
                    "274",
                    "275",
                    "276",
                    "277",
                    "278",
                    "279",
                    "280",
                    "281",
                    "282",
                    "283",
                    "284",
                    "285",
                    "286",
                    "287",
                    "288",
                    "289",
                    "290",
                    "291",
                    "292",
                    "293",
                    "294",
                    "295",
                    "296",
                    "297",
                    "298",
                    "299",
                    "300",
                    "301",
                    "302",
                    "303",
                    "304",
                    "305",
                    "306",
                    "307",
                    "308",
                    "309",
                    "310",
                    "311",
                    "312",
                    "313",
                    "314",
                    "315",
                    "316",
                    "317",
                    "318",
                    "319",
                    "320",
                    "321",
                    "322",
                    "323",
                    "324",
                    "325",
                    "326",
                    "327",
                    "328",
                    "329",
                    "330",
                    "331",
                    "332",
                    "333",
                    "334",
                    "335",
                    "336",
                    "337",
                    "338",
                    "339",
                    "340",
                    "341",
                    "342",
                    "343",
                    "344",
                    "345",
                    "346",
                    "347",
                    "348",
                    "349",
                    "350",
                    "351",
                    "352",
                    "353",
                    "354",
                    "355",
                    "356",
                    "357",
                    "358",
                    "359",
                    "360",
                    "361",
                    "362",
                    "363",
                    "364",
                    "365",
                    "366",
                    "367",
                    "368",
                    "369",
                    "370",
                    "371",
                    "372",
                    "373",
                    "374",
                    "375",
                    "376",
                    "377",
                    "378",
                    "379",
                    "380",
                    "381",
                    "382",
                    "383",
                    "384",
                    "385",
                    "386",
                    "387",
                    "388",
                    "389",
                    "390",
                    "391",
                    "392",
                    "393",
                    "394",
                    "395",
                    "396",
                    "397",
                    "398",
                    "399",
                    "400",
                    "401",
                    "402",
                    "403",
                    "404",
                    "405",
                    "406",
                    "407",
                    "408",
                    "409",
                    "410",
                    "411",
                    "412",
                    "413",
                    "414",
                    "415",
                    "416",
                    "417",
                    "418",
                    "419",
                    "420",
                    "421",
                    "422",
                    "423",
                    "424"
                  ],
                  "y": [
                    0,
                    0,
                    0,
                    0,
                    3,
                    0,
                    0,
                    0,
                    0,
                    0,
                    0,
                    0,
                    0,
                    3,
                    0,
                    0,
                    2,
                    0,
                    0,
                    0,
                    0,
                    0,
                    1,
                    1,
                    0,
                    0,
                    0,
                    0,
                    0,
                    1,
                    0,
                    0,
                    2,
                    4,
                    0,
                    0,
                    0,
                    0,
                    0,
                    0,
                    1,
                    0,
                    0,
                    0,
                    0,
                    0,
                    0,
                    0,
                    0,
                    2,
                    0,
                    2,
                    0,
                    0,
                    2,
                    1,
                    0,
                    0,
                    0,
                    0,
                    1,
                    3,
                    0,
                    0,
                    0,
                    0,
                    0,
                    3,
                    0,
                    1,
                    0,
                    0,
                    0,
                    0,
                    2,
                    0,
                    0,
                    0,
                    1,
                    3,
                    0,
                    0,
                    2,
                    0,
                    0,
                    0,
                    0,
                    0,
                    0,
                    0,
                    0,
                    0,
                    0,
                    0,
                    0,
                    0,
                    0,
                    0,
                    0,
                    1,
                    0,
                    0,
                    2,
                    0,
                    0,
                    3,
                    0,
                    0,
                    0,
                    1,
                    0,
                    0,
                    0,
                    0,
                    0,
                    0,
                    0,
                    0,
                    0,
                    0,
                    0,
                    0,
                    0,
                    0,
                    0,
                    3,
                    0,
                    1,
                    0,
                    0,
                    0,
                    0,
                    0,
                    0,
                    0,
                    4,
                    1,
                    0,
                    0,
                    0,
                    0,
                    0,
                    3,
                    0,
                    0,
                    0,
                    0,
                    0,
                    0,
                    0,
                    0,
                    0,
                    0,
                    0,
                    3,
                    3,
                    0,
                    0,
                    0,
                    0,
                    0,
                    0,
                    4,
                    2,
                    0,
                    0,
                    3,
                    0,
                    2,
                    2,
                    3,
                    2,
                    0,
                    0,
                    0,
                    0,
                    0,
                    0,
                    0,
                    1,
                    0,
                    0,
                    0,
                    1,
                    0,
                    1,
                    0,
                    3,
                    0,
                    2,
                    2,
                    0,
                    0,
                    0,
                    0,
                    0,
                    0,
                    0,
                    0,
                    0,
                    0,
                    1,
                    0,
                    1,
                    0,
                    0,
                    2,
                    3,
                    0,
                    0,
                    0,
                    0,
                    2,
                    0,
                    0,
                    0,
                    1,
                    0,
                    0,
                    0,
                    0,
                    1,
                    0,
                    0,
                    0,
                    0,
                    0,
                    1,
                    0,
                    0,
                    0,
                    0,
                    2,
                    1,
                    0,
                    2,
                    0,
                    1,
                    2,
                    3,
                    0,
                    0,
                    1,
                    0,
                    2,
                    0,
                    0,
                    3,
                    3,
                    0,
                    0,
                    3,
                    0,
                    2,
                    0,
                    0,
                    0,
                    0,
                    0,
                    1,
                    0,
                    0,
                    0,
                    0,
                    0,
                    0,
                    1,
                    0,
                    0,
                    0,
                    2,
                    0,
                    0,
                    0,
                    2,
                    0,
                    0,
                    1,
                    0,
                    0,
                    0,
                    0,
                    0,
                    3,
                    2,
                    0,
                    0,
                    0,
                    0,
                    0,
                    2,
                    1,
                    0,
                    0,
                    0,
                    0,
                    0,
                    0,
                    0,
                    2,
                    3,
                    0,
                    0,
                    0,
                    0,
                    0,
                    0,
                    4,
                    1,
                    0,
                    0,
                    0,
                    0,
                    0,
                    0,
                    0,
                    0,
                    1,
                    1,
                    0,
                    0,
                    1,
                    0,
                    3,
                    0,
                    1,
                    0,
                    2,
                    3,
                    0,
                    0,
                    0,
                    0,
                    0,
                    3,
                    0,
                    3,
                    0,
                    0,
                    0,
                    0,
                    1,
                    2,
                    0,
                    0,
                    0,
                    0,
                    0,
                    0,
                    0,
                    0,
                    4,
                    0,
                    1,
                    0,
                    0,
                    1,
                    4,
                    4,
                    1,
                    0,
                    0,
                    0,
                    0,
                    0,
                    0,
                    0,
                    0,
                    0,
                    0,
                    0,
                    0,
                    0,
                    0,
                    0,
                    0,
                    0,
                    0,
                    0,
                    3,
                    3,
                    0,
                    0,
                    1,
                    0,
                    0,
                    2,
                    3,
                    1,
                    4,
                    0,
                    3,
                    0,
                    0,
                    3,
                    0,
                    0,
                    0,
                    0,
                    0,
                    0,
                    0,
                    0,
                    0,
                    0,
                    0,
                    0,
                    2,
                    0,
                    1,
                    3,
                    1,
                    0,
                    0,
                    0,
                    0,
                    2,
                    0,
                    0,
                    0,
                    0,
                    0,
                    0,
                    0,
                    0
                  ]
                },
                {
                  "marker": {
                    "color": "red",
                    "line": {
                      "color": "red",
                      "width": 1
                    },
                    "size": 6
                  },
                  "mode": "markers",
                  "name": "Anomalies",
                  "type": "scatter",
                  "x": [
                    "212",
                    "399"
                  ],
                  "y": [
                    2,
                    0
                  ]
                }
              ],
              "layout": {
                "template": {
                  "data": {
                    "bar": [
                      {
                        "error_x": {
                          "color": "#2a3f5f"
                        },
                        "error_y": {
                          "color": "#2a3f5f"
                        },
                        "marker": {
                          "line": {
                            "color": "#E5ECF6",
                            "width": 0.5
                          },
                          "pattern": {
                            "fillmode": "overlay",
                            "size": 10,
                            "solidity": 0.2
                          }
                        },
                        "type": "bar"
                      }
                    ],
                    "barpolar": [
                      {
                        "marker": {
                          "line": {
                            "color": "#E5ECF6",
                            "width": 0.5
                          },
                          "pattern": {
                            "fillmode": "overlay",
                            "size": 10,
                            "solidity": 0.2
                          }
                        },
                        "type": "barpolar"
                      }
                    ],
                    "carpet": [
                      {
                        "aaxis": {
                          "endlinecolor": "#2a3f5f",
                          "gridcolor": "white",
                          "linecolor": "white",
                          "minorgridcolor": "white",
                          "startlinecolor": "#2a3f5f"
                        },
                        "baxis": {
                          "endlinecolor": "#2a3f5f",
                          "gridcolor": "white",
                          "linecolor": "white",
                          "minorgridcolor": "white",
                          "startlinecolor": "#2a3f5f"
                        },
                        "type": "carpet"
                      }
                    ],
                    "choropleth": [
                      {
                        "colorbar": {
                          "outlinewidth": 0,
                          "ticks": ""
                        },
                        "type": "choropleth"
                      }
                    ],
                    "contour": [
                      {
                        "colorbar": {
                          "outlinewidth": 0,
                          "ticks": ""
                        },
                        "colorscale": [
                          [
                            0,
                            "#0d0887"
                          ],
                          [
                            0.1111111111111111,
                            "#46039f"
                          ],
                          [
                            0.2222222222222222,
                            "#7201a8"
                          ],
                          [
                            0.3333333333333333,
                            "#9c179e"
                          ],
                          [
                            0.4444444444444444,
                            "#bd3786"
                          ],
                          [
                            0.5555555555555556,
                            "#d8576b"
                          ],
                          [
                            0.6666666666666666,
                            "#ed7953"
                          ],
                          [
                            0.7777777777777778,
                            "#fb9f3a"
                          ],
                          [
                            0.8888888888888888,
                            "#fdca26"
                          ],
                          [
                            1,
                            "#f0f921"
                          ]
                        ],
                        "type": "contour"
                      }
                    ],
                    "contourcarpet": [
                      {
                        "colorbar": {
                          "outlinewidth": 0,
                          "ticks": ""
                        },
                        "type": "contourcarpet"
                      }
                    ],
                    "heatmap": [
                      {
                        "colorbar": {
                          "outlinewidth": 0,
                          "ticks": ""
                        },
                        "colorscale": [
                          [
                            0,
                            "#0d0887"
                          ],
                          [
                            0.1111111111111111,
                            "#46039f"
                          ],
                          [
                            0.2222222222222222,
                            "#7201a8"
                          ],
                          [
                            0.3333333333333333,
                            "#9c179e"
                          ],
                          [
                            0.4444444444444444,
                            "#bd3786"
                          ],
                          [
                            0.5555555555555556,
                            "#d8576b"
                          ],
                          [
                            0.6666666666666666,
                            "#ed7953"
                          ],
                          [
                            0.7777777777777778,
                            "#fb9f3a"
                          ],
                          [
                            0.8888888888888888,
                            "#fdca26"
                          ],
                          [
                            1,
                            "#f0f921"
                          ]
                        ],
                        "type": "heatmap"
                      }
                    ],
                    "heatmapgl": [
                      {
                        "colorbar": {
                          "outlinewidth": 0,
                          "ticks": ""
                        },
                        "colorscale": [
                          [
                            0,
                            "#0d0887"
                          ],
                          [
                            0.1111111111111111,
                            "#46039f"
                          ],
                          [
                            0.2222222222222222,
                            "#7201a8"
                          ],
                          [
                            0.3333333333333333,
                            "#9c179e"
                          ],
                          [
                            0.4444444444444444,
                            "#bd3786"
                          ],
                          [
                            0.5555555555555556,
                            "#d8576b"
                          ],
                          [
                            0.6666666666666666,
                            "#ed7953"
                          ],
                          [
                            0.7777777777777778,
                            "#fb9f3a"
                          ],
                          [
                            0.8888888888888888,
                            "#fdca26"
                          ],
                          [
                            1,
                            "#f0f921"
                          ]
                        ],
                        "type": "heatmapgl"
                      }
                    ],
                    "histogram": [
                      {
                        "marker": {
                          "pattern": {
                            "fillmode": "overlay",
                            "size": 10,
                            "solidity": 0.2
                          }
                        },
                        "type": "histogram"
                      }
                    ],
                    "histogram2d": [
                      {
                        "colorbar": {
                          "outlinewidth": 0,
                          "ticks": ""
                        },
                        "colorscale": [
                          [
                            0,
                            "#0d0887"
                          ],
                          [
                            0.1111111111111111,
                            "#46039f"
                          ],
                          [
                            0.2222222222222222,
                            "#7201a8"
                          ],
                          [
                            0.3333333333333333,
                            "#9c179e"
                          ],
                          [
                            0.4444444444444444,
                            "#bd3786"
                          ],
                          [
                            0.5555555555555556,
                            "#d8576b"
                          ],
                          [
                            0.6666666666666666,
                            "#ed7953"
                          ],
                          [
                            0.7777777777777778,
                            "#fb9f3a"
                          ],
                          [
                            0.8888888888888888,
                            "#fdca26"
                          ],
                          [
                            1,
                            "#f0f921"
                          ]
                        ],
                        "type": "histogram2d"
                      }
                    ],
                    "histogram2dcontour": [
                      {
                        "colorbar": {
                          "outlinewidth": 0,
                          "ticks": ""
                        },
                        "colorscale": [
                          [
                            0,
                            "#0d0887"
                          ],
                          [
                            0.1111111111111111,
                            "#46039f"
                          ],
                          [
                            0.2222222222222222,
                            "#7201a8"
                          ],
                          [
                            0.3333333333333333,
                            "#9c179e"
                          ],
                          [
                            0.4444444444444444,
                            "#bd3786"
                          ],
                          [
                            0.5555555555555556,
                            "#d8576b"
                          ],
                          [
                            0.6666666666666666,
                            "#ed7953"
                          ],
                          [
                            0.7777777777777778,
                            "#fb9f3a"
                          ],
                          [
                            0.8888888888888888,
                            "#fdca26"
                          ],
                          [
                            1,
                            "#f0f921"
                          ]
                        ],
                        "type": "histogram2dcontour"
                      }
                    ],
                    "mesh3d": [
                      {
                        "colorbar": {
                          "outlinewidth": 0,
                          "ticks": ""
                        },
                        "type": "mesh3d"
                      }
                    ],
                    "parcoords": [
                      {
                        "line": {
                          "colorbar": {
                            "outlinewidth": 0,
                            "ticks": ""
                          }
                        },
                        "type": "parcoords"
                      }
                    ],
                    "pie": [
                      {
                        "automargin": true,
                        "type": "pie"
                      }
                    ],
                    "scatter": [
                      {
                        "fillpattern": {
                          "fillmode": "overlay",
                          "size": 10,
                          "solidity": 0.2
                        },
                        "type": "scatter"
                      }
                    ],
                    "scatter3d": [
                      {
                        "line": {
                          "colorbar": {
                            "outlinewidth": 0,
                            "ticks": ""
                          }
                        },
                        "marker": {
                          "colorbar": {
                            "outlinewidth": 0,
                            "ticks": ""
                          }
                        },
                        "type": "scatter3d"
                      }
                    ],
                    "scattercarpet": [
                      {
                        "marker": {
                          "colorbar": {
                            "outlinewidth": 0,
                            "ticks": ""
                          }
                        },
                        "type": "scattercarpet"
                      }
                    ],
                    "scattergeo": [
                      {
                        "marker": {
                          "colorbar": {
                            "outlinewidth": 0,
                            "ticks": ""
                          }
                        },
                        "type": "scattergeo"
                      }
                    ],
                    "scattergl": [
                      {
                        "marker": {
                          "colorbar": {
                            "outlinewidth": 0,
                            "ticks": ""
                          }
                        },
                        "type": "scattergl"
                      }
                    ],
                    "scattermapbox": [
                      {
                        "marker": {
                          "colorbar": {
                            "outlinewidth": 0,
                            "ticks": ""
                          }
                        },
                        "type": "scattermapbox"
                      }
                    ],
                    "scatterpolar": [
                      {
                        "marker": {
                          "colorbar": {
                            "outlinewidth": 0,
                            "ticks": ""
                          }
                        },
                        "type": "scatterpolar"
                      }
                    ],
                    "scatterpolargl": [
                      {
                        "marker": {
                          "colorbar": {
                            "outlinewidth": 0,
                            "ticks": ""
                          }
                        },
                        "type": "scatterpolargl"
                      }
                    ],
                    "scatterternary": [
                      {
                        "marker": {
                          "colorbar": {
                            "outlinewidth": 0,
                            "ticks": ""
                          }
                        },
                        "type": "scatterternary"
                      }
                    ],
                    "surface": [
                      {
                        "colorbar": {
                          "outlinewidth": 0,
                          "ticks": ""
                        },
                        "colorscale": [
                          [
                            0,
                            "#0d0887"
                          ],
                          [
                            0.1111111111111111,
                            "#46039f"
                          ],
                          [
                            0.2222222222222222,
                            "#7201a8"
                          ],
                          [
                            0.3333333333333333,
                            "#9c179e"
                          ],
                          [
                            0.4444444444444444,
                            "#bd3786"
                          ],
                          [
                            0.5555555555555556,
                            "#d8576b"
                          ],
                          [
                            0.6666666666666666,
                            "#ed7953"
                          ],
                          [
                            0.7777777777777778,
                            "#fb9f3a"
                          ],
                          [
                            0.8888888888888888,
                            "#fdca26"
                          ],
                          [
                            1,
                            "#f0f921"
                          ]
                        ],
                        "type": "surface"
                      }
                    ],
                    "table": [
                      {
                        "cells": {
                          "fill": {
                            "color": "#EBF0F8"
                          },
                          "line": {
                            "color": "white"
                          }
                        },
                        "header": {
                          "fill": {
                            "color": "#C8D4E3"
                          },
                          "line": {
                            "color": "white"
                          }
                        },
                        "type": "table"
                      }
                    ]
                  },
                  "layout": {
                    "annotationdefaults": {
                      "arrowcolor": "#2a3f5f",
                      "arrowhead": 0,
                      "arrowwidth": 1
                    },
                    "autotypenumbers": "strict",
                    "coloraxis": {
                      "colorbar": {
                        "outlinewidth": 0,
                        "ticks": ""
                      }
                    },
                    "colorscale": {
                      "diverging": [
                        [
                          0,
                          "#8e0152"
                        ],
                        [
                          0.1,
                          "#c51b7d"
                        ],
                        [
                          0.2,
                          "#de77ae"
                        ],
                        [
                          0.3,
                          "#f1b6da"
                        ],
                        [
                          0.4,
                          "#fde0ef"
                        ],
                        [
                          0.5,
                          "#f7f7f7"
                        ],
                        [
                          0.6,
                          "#e6f5d0"
                        ],
                        [
                          0.7,
                          "#b8e186"
                        ],
                        [
                          0.8,
                          "#7fbc41"
                        ],
                        [
                          0.9,
                          "#4d9221"
                        ],
                        [
                          1,
                          "#276419"
                        ]
                      ],
                      "sequential": [
                        [
                          0,
                          "#0d0887"
                        ],
                        [
                          0.1111111111111111,
                          "#46039f"
                        ],
                        [
                          0.2222222222222222,
                          "#7201a8"
                        ],
                        [
                          0.3333333333333333,
                          "#9c179e"
                        ],
                        [
                          0.4444444444444444,
                          "#bd3786"
                        ],
                        [
                          0.5555555555555556,
                          "#d8576b"
                        ],
                        [
                          0.6666666666666666,
                          "#ed7953"
                        ],
                        [
                          0.7777777777777778,
                          "#fb9f3a"
                        ],
                        [
                          0.8888888888888888,
                          "#fdca26"
                        ],
                        [
                          1,
                          "#f0f921"
                        ]
                      ],
                      "sequentialminus": [
                        [
                          0,
                          "#0d0887"
                        ],
                        [
                          0.1111111111111111,
                          "#46039f"
                        ],
                        [
                          0.2222222222222222,
                          "#7201a8"
                        ],
                        [
                          0.3333333333333333,
                          "#9c179e"
                        ],
                        [
                          0.4444444444444444,
                          "#bd3786"
                        ],
                        [
                          0.5555555555555556,
                          "#d8576b"
                        ],
                        [
                          0.6666666666666666,
                          "#ed7953"
                        ],
                        [
                          0.7777777777777778,
                          "#fb9f3a"
                        ],
                        [
                          0.8888888888888888,
                          "#fdca26"
                        ],
                        [
                          1,
                          "#f0f921"
                        ]
                      ]
                    },
                    "colorway": [
                      "#636efa",
                      "#EF553B",
                      "#00cc96",
                      "#ab63fa",
                      "#FFA15A",
                      "#19d3f3",
                      "#FF6692",
                      "#B6E880",
                      "#FF97FF",
                      "#FECB52"
                    ],
                    "font": {
                      "color": "#2a3f5f"
                    },
                    "geo": {
                      "bgcolor": "white",
                      "lakecolor": "white",
                      "landcolor": "#E5ECF6",
                      "showlakes": true,
                      "showland": true,
                      "subunitcolor": "white"
                    },
                    "hoverlabel": {
                      "align": "left"
                    },
                    "hovermode": "closest",
                    "mapbox": {
                      "style": "light"
                    },
                    "paper_bgcolor": "white",
                    "plot_bgcolor": "#E5ECF6",
                    "polar": {
                      "angularaxis": {
                        "gridcolor": "white",
                        "linecolor": "white",
                        "ticks": ""
                      },
                      "bgcolor": "#E5ECF6",
                      "radialaxis": {
                        "gridcolor": "white",
                        "linecolor": "white",
                        "ticks": ""
                      }
                    },
                    "scene": {
                      "xaxis": {
                        "backgroundcolor": "#E5ECF6",
                        "gridcolor": "white",
                        "gridwidth": 2,
                        "linecolor": "white",
                        "showbackground": true,
                        "ticks": "",
                        "zerolinecolor": "white"
                      },
                      "yaxis": {
                        "backgroundcolor": "#E5ECF6",
                        "gridcolor": "white",
                        "gridwidth": 2,
                        "linecolor": "white",
                        "showbackground": true,
                        "ticks": "",
                        "zerolinecolor": "white"
                      },
                      "zaxis": {
                        "backgroundcolor": "#E5ECF6",
                        "gridcolor": "white",
                        "gridwidth": 2,
                        "linecolor": "white",
                        "showbackground": true,
                        "ticks": "",
                        "zerolinecolor": "white"
                      }
                    },
                    "shapedefaults": {
                      "line": {
                        "color": "#2a3f5f"
                      }
                    },
                    "ternary": {
                      "aaxis": {
                        "gridcolor": "white",
                        "linecolor": "white",
                        "ticks": ""
                      },
                      "baxis": {
                        "gridcolor": "white",
                        "linecolor": "white",
                        "ticks": ""
                      },
                      "bgcolor": "#E5ECF6",
                      "caxis": {
                        "gridcolor": "white",
                        "linecolor": "white",
                        "ticks": ""
                      }
                    },
                    "title": {
                      "x": 0.05
                    },
                    "xaxis": {
                      "automargin": true,
                      "gridcolor": "white",
                      "linecolor": "white",
                      "ticks": "",
                      "title": {
                        "standoff": 15
                      },
                      "zerolinecolor": "white",
                      "zerolinewidth": 2
                    },
                    "yaxis": {
                      "automargin": true,
                      "gridcolor": "white",
                      "linecolor": "white",
                      "ticks": "",
                      "title": {
                        "standoff": 15
                      },
                      "zerolinecolor": "white",
                      "zerolinewidth": 2
                    }
                  }
                },
                "title": {
                  "text": "Isolation Forest"
                },
                "xaxis": {
                  "title": {
                    "text": "x-axis"
                  }
                },
                "yaxis": {
                  "title": {
                    "text": "accident level"
                  }
                }
              }
            }
          },
          "metadata": {}
        }
      ],
      "execution_count": 69,
      "metadata": {
        "executionInfo": {
          "elapsed": 5,
          "status": "aborted",
          "timestamp": 1669401474209,
          "user": {
            "displayName": "Кирилл Сидоров",
            "userId": "17089401133645507049"
          },
          "user_tz": -180
        },
        "id": "FuOyVXGCBqv7"
      }
    },
    {
      "cell_type": "code",
      "source": [
        "print(numeric_cols)\n",
        "df.columns"
      ],
      "outputs": [
        {
          "output_type": "stream",
          "name": "stdout",
          "text": "['unnamed: 0' 'countries' 'city' 'industry sector' 'accident level'\n 'potential accident level' 'gender' 'employee or third party']\n"
        },
        {
          "output_type": "execute_result",
          "execution_count": 70,
          "data": {
            "text/plain": "Index(['date', 'unnamed: 0', 'countries', 'city', 'industry sector',\n       'accident level', 'potential accident level', 'gender',\n       'employee or third party', 'critical risk', 'description', 'anomalies'],\n      dtype='object')"
          },
          "metadata": {}
        }
      ],
      "execution_count": 70,
      "metadata": {
        "executionInfo": {
          "elapsed": 5,
          "status": "aborted",
          "timestamp": 1669401474209,
          "user": {
            "displayName": "Кирилл Сидоров",
            "userId": "17089401133645507049"
          },
          "user_tz": -180
        },
        "id": "qvcesHm7CZgL"
      }
    },
    {
      "cell_type": "code",
      "source": [
        "data = df.copy()\n",
        "\n",
        "data.drop('countries', axis=1, inplace=True)\n",
        "data.drop('city', axis=1, inplace=True)\n",
        "data.drop('industry sector', axis=1, inplace=True)\n",
        "data.drop('gender', axis=1, inplace=True)\n",
        "data.drop('employee or third party', axis=1, inplace=True)\n",
        "data.drop('date', axis=1, inplace=True)\n",
        "data.drop('anomalies', axis=1, inplace=True)\n",
        "data.drop('critical risk', axis=1, inplace=True)\n",
        "data.drop('description', axis=1, inplace=True)\n",
        "\n",
        "data.head()"
      ],
      "outputs": [
        {
          "output_type": "execute_result",
          "execution_count": 73,
          "data": {
            "text/html": "<div>\n<style scoped>\n    .dataframe tbody tr th:only-of-type {\n        vertical-align: middle;\n    }\n\n    .dataframe tbody tr th {\n        vertical-align: top;\n    }\n\n    .dataframe thead th {\n        text-align: right;\n    }\n</style>\n<table border=\"1\" class=\"dataframe\">\n  <thead>\n    <tr style=\"text-align: right;\">\n      <th></th>\n      <th>unnamed: 0</th>\n      <th>accident level</th>\n      <th>potential accident level</th>\n    </tr>\n  </thead>\n  <tbody>\n    <tr>\n      <th>0</th>\n      <td>0</td>\n      <td>0</td>\n      <td>3</td>\n    </tr>\n    <tr>\n      <th>1</th>\n      <td>1</td>\n      <td>0</td>\n      <td>3</td>\n    </tr>\n    <tr>\n      <th>2</th>\n      <td>2</td>\n      <td>0</td>\n      <td>2</td>\n    </tr>\n    <tr>\n      <th>3</th>\n      <td>3</td>\n      <td>0</td>\n      <td>0</td>\n    </tr>\n    <tr>\n      <th>4</th>\n      <td>4</td>\n      <td>3</td>\n      <td>3</td>\n    </tr>\n  </tbody>\n</table>\n</div>",
            "text/plain": "   unnamed: 0  accident level  potential accident level\n0           0               0                         3\n1           1               0                         3\n2           2               0                         2\n3           3               0                         0\n4           4               3                         3"
          },
          "metadata": {}
        }
      ],
      "execution_count": 73,
      "metadata": {
        "executionInfo": {
          "elapsed": 5,
          "status": "aborted",
          "timestamp": 1669401474209,
          "user": {
            "displayName": "Кирилл Сидоров",
            "userId": "17089401133645507049"
          },
          "user_tz": -180
        },
        "id": "gU3R_LbQCWYt"
      }
    },
    {
      "cell_type": "code",
      "source": [
        "#инициализация Isolation Forest\n",
        "isolation_model1= IsolationForest(contamination=0.003)\n",
        "\n",
        "#тренировка модели\n",
        "isolation_model1.fit(data)\n",
        "\n",
        "#создание предсказаний\n",
        "IF_predictions1 = isolation_model1.predict(data)"
      ],
      "outputs": [
        {
          "output_type": "stream",
          "name": "stderr",
          "text": "C:\\Users\\grias\\AppData\\Local\\Packages\\PythonSoftwareFoundation.Python.3.10_qbz5n2kfra8p0\\LocalCache\\local-packages\\Python310\\site-packages\\sklearn\\base.py:409: UserWarning:\n\nX does not have valid feature names, but IsolationForest was fitted with feature names\n\n"
        }
      ],
      "execution_count": 74,
      "metadata": {
        "executionInfo": {
          "elapsed": 5,
          "status": "aborted",
          "timestamp": 1669401474209,
          "user": {
            "displayName": "Кирилл Сидоров",
            "userId": "17089401133645507049"
          },
          "user_tz": -180
        },
        "id": "lQ-RvmfsCnwx"
      }
    },
    {
      "cell_type": "code",
      "source": [
        "# добавление аномалий в набор данных\n",
        "data['anomalies'] = IF_predictions1\n",
        "anomalies1 = data.query('anomalies == -1')\n",
        "\n",
        "#строю график для выбросов\n",
        "normal = go.Scatter(x=data.index.astype(str),y=data['accident level'],name=\"Normal data\", mode='markers')\n",
        "outlier = go.Scatter(x=anomalies1.index.astype(str), y=anomalies1['accident level'], name=\"Anomalies\", mode='markers',\n",
        "                        marker=dict(color='red', size=5,\n",
        "                            line=dict(color='red', width=1)))\n",
        "\n",
        "# обозначения графика\n",
        "layout = go.Layout(title=\"Isolation Forest\", yaxis_title='accident level',xaxis_title='x-axis',)\n",
        "\n",
        "#строю график\n",
        "Data = [normal, outlier]\n",
        "fig = go.Figure(data=Data, layout=layout)\n",
        "fig.show()"
      ],
      "outputs": [
        {
          "output_type": "display_data",
          "data": {
            "application/vnd.plotly.v1+json": {
              "config": {
                "plotlyServerURL": "https://plot.ly"
              },
              "data": [
                {
                  "mode": "markers",
                  "name": "Normal data",
                  "type": "scatter",
                  "x": [
                    "0",
                    "1",
                    "2",
                    "3",
                    "4",
                    "5",
                    "6",
                    "7",
                    "8",
                    "9",
                    "10",
                    "11",
                    "12",
                    "13",
                    "14",
                    "15",
                    "16",
                    "17",
                    "18",
                    "19",
                    "20",
                    "21",
                    "22",
                    "23",
                    "24",
                    "25",
                    "26",
                    "27",
                    "28",
                    "29",
                    "30",
                    "31",
                    "32",
                    "33",
                    "34",
                    "35",
                    "36",
                    "37",
                    "38",
                    "39",
                    "40",
                    "41",
                    "42",
                    "43",
                    "44",
                    "45",
                    "46",
                    "47",
                    "48",
                    "49",
                    "50",
                    "51",
                    "52",
                    "53",
                    "54",
                    "55",
                    "56",
                    "57",
                    "58",
                    "59",
                    "60",
                    "61",
                    "62",
                    "63",
                    "64",
                    "65",
                    "66",
                    "67",
                    "68",
                    "69",
                    "70",
                    "71",
                    "72",
                    "73",
                    "74",
                    "75",
                    "76",
                    "77",
                    "78",
                    "79",
                    "80",
                    "81",
                    "82",
                    "83",
                    "84",
                    "85",
                    "86",
                    "87",
                    "88",
                    "89",
                    "90",
                    "91",
                    "92",
                    "93",
                    "94",
                    "95",
                    "96",
                    "97",
                    "98",
                    "99",
                    "100",
                    "101",
                    "102",
                    "103",
                    "104",
                    "105",
                    "106",
                    "107",
                    "108",
                    "109",
                    "110",
                    "111",
                    "112",
                    "113",
                    "114",
                    "115",
                    "116",
                    "117",
                    "118",
                    "119",
                    "120",
                    "121",
                    "122",
                    "123",
                    "124",
                    "125",
                    "126",
                    "127",
                    "128",
                    "129",
                    "130",
                    "131",
                    "132",
                    "133",
                    "134",
                    "135",
                    "136",
                    "137",
                    "138",
                    "139",
                    "140",
                    "141",
                    "142",
                    "143",
                    "144",
                    "145",
                    "146",
                    "147",
                    "148",
                    "149",
                    "150",
                    "151",
                    "152",
                    "153",
                    "154",
                    "155",
                    "156",
                    "157",
                    "158",
                    "159",
                    "160",
                    "161",
                    "162",
                    "163",
                    "164",
                    "165",
                    "166",
                    "167",
                    "168",
                    "169",
                    "170",
                    "171",
                    "172",
                    "173",
                    "174",
                    "175",
                    "176",
                    "177",
                    "178",
                    "179",
                    "180",
                    "181",
                    "182",
                    "183",
                    "184",
                    "185",
                    "186",
                    "187",
                    "188",
                    "189",
                    "190",
                    "191",
                    "192",
                    "193",
                    "194",
                    "195",
                    "196",
                    "197",
                    "198",
                    "199",
                    "200",
                    "201",
                    "202",
                    "203",
                    "204",
                    "205",
                    "206",
                    "207",
                    "208",
                    "209",
                    "210",
                    "211",
                    "212",
                    "213",
                    "214",
                    "215",
                    "216",
                    "217",
                    "218",
                    "219",
                    "220",
                    "221",
                    "222",
                    "223",
                    "224",
                    "225",
                    "226",
                    "227",
                    "228",
                    "229",
                    "230",
                    "231",
                    "232",
                    "233",
                    "234",
                    "235",
                    "236",
                    "237",
                    "238",
                    "239",
                    "240",
                    "241",
                    "242",
                    "243",
                    "244",
                    "245",
                    "246",
                    "247",
                    "248",
                    "249",
                    "250",
                    "251",
                    "252",
                    "253",
                    "254",
                    "255",
                    "256",
                    "257",
                    "258",
                    "259",
                    "260",
                    "261",
                    "262",
                    "263",
                    "264",
                    "265",
                    "266",
                    "267",
                    "268",
                    "269",
                    "270",
                    "271",
                    "272",
                    "273",
                    "274",
                    "275",
                    "276",
                    "277",
                    "278",
                    "279",
                    "280",
                    "281",
                    "282",
                    "283",
                    "284",
                    "285",
                    "286",
                    "287",
                    "288",
                    "289",
                    "290",
                    "291",
                    "292",
                    "293",
                    "294",
                    "295",
                    "296",
                    "297",
                    "298",
                    "299",
                    "300",
                    "301",
                    "302",
                    "303",
                    "304",
                    "305",
                    "306",
                    "307",
                    "308",
                    "309",
                    "310",
                    "311",
                    "312",
                    "313",
                    "314",
                    "315",
                    "316",
                    "317",
                    "318",
                    "319",
                    "320",
                    "321",
                    "322",
                    "323",
                    "324",
                    "325",
                    "326",
                    "327",
                    "328",
                    "329",
                    "330",
                    "331",
                    "332",
                    "333",
                    "334",
                    "335",
                    "336",
                    "337",
                    "338",
                    "339",
                    "340",
                    "341",
                    "342",
                    "343",
                    "344",
                    "345",
                    "346",
                    "347",
                    "348",
                    "349",
                    "350",
                    "351",
                    "352",
                    "353",
                    "354",
                    "355",
                    "356",
                    "357",
                    "358",
                    "359",
                    "360",
                    "361",
                    "362",
                    "363",
                    "364",
                    "365",
                    "366",
                    "367",
                    "368",
                    "369",
                    "370",
                    "371",
                    "372",
                    "373",
                    "374",
                    "375",
                    "376",
                    "377",
                    "378",
                    "379",
                    "380",
                    "381",
                    "382",
                    "383",
                    "384",
                    "385",
                    "386",
                    "387",
                    "388",
                    "389",
                    "390",
                    "391",
                    "392",
                    "393",
                    "394",
                    "395",
                    "396",
                    "397",
                    "398",
                    "399",
                    "400",
                    "401",
                    "402",
                    "403",
                    "404",
                    "405",
                    "406",
                    "407",
                    "408",
                    "409",
                    "410",
                    "411",
                    "412",
                    "413",
                    "414",
                    "415",
                    "416",
                    "417",
                    "418",
                    "419",
                    "420",
                    "421",
                    "422",
                    "423",
                    "424"
                  ],
                  "y": [
                    0,
                    0,
                    0,
                    0,
                    3,
                    0,
                    0,
                    0,
                    0,
                    0,
                    0,
                    0,
                    0,
                    3,
                    0,
                    0,
                    2,
                    0,
                    0,
                    0,
                    0,
                    0,
                    1,
                    1,
                    0,
                    0,
                    0,
                    0,
                    0,
                    1,
                    0,
                    0,
                    2,
                    4,
                    0,
                    0,
                    0,
                    0,
                    0,
                    0,
                    1,
                    0,
                    0,
                    0,
                    0,
                    0,
                    0,
                    0,
                    0,
                    2,
                    0,
                    2,
                    0,
                    0,
                    2,
                    1,
                    0,
                    0,
                    0,
                    0,
                    1,
                    3,
                    0,
                    0,
                    0,
                    0,
                    0,
                    3,
                    0,
                    1,
                    0,
                    0,
                    0,
                    0,
                    2,
                    0,
                    0,
                    0,
                    1,
                    3,
                    0,
                    0,
                    2,
                    0,
                    0,
                    0,
                    0,
                    0,
                    0,
                    0,
                    0,
                    0,
                    0,
                    0,
                    0,
                    0,
                    0,
                    0,
                    0,
                    1,
                    0,
                    0,
                    2,
                    0,
                    0,
                    3,
                    0,
                    0,
                    0,
                    1,
                    0,
                    0,
                    0,
                    0,
                    0,
                    0,
                    0,
                    0,
                    0,
                    0,
                    0,
                    0,
                    0,
                    0,
                    0,
                    3,
                    0,
                    1,
                    0,
                    0,
                    0,
                    0,
                    0,
                    0,
                    0,
                    4,
                    1,
                    0,
                    0,
                    0,
                    0,
                    0,
                    3,
                    0,
                    0,
                    0,
                    0,
                    0,
                    0,
                    0,
                    0,
                    0,
                    0,
                    0,
                    3,
                    3,
                    0,
                    0,
                    0,
                    0,
                    0,
                    0,
                    4,
                    2,
                    0,
                    0,
                    3,
                    0,
                    2,
                    2,
                    3,
                    2,
                    0,
                    0,
                    0,
                    0,
                    0,
                    0,
                    0,
                    1,
                    0,
                    0,
                    0,
                    1,
                    0,
                    1,
                    0,
                    3,
                    0,
                    2,
                    2,
                    0,
                    0,
                    0,
                    0,
                    0,
                    0,
                    0,
                    0,
                    0,
                    0,
                    1,
                    0,
                    1,
                    0,
                    0,
                    2,
                    3,
                    0,
                    0,
                    0,
                    0,
                    2,
                    0,
                    0,
                    0,
                    1,
                    0,
                    0,
                    0,
                    0,
                    1,
                    0,
                    0,
                    0,
                    0,
                    0,
                    1,
                    0,
                    0,
                    0,
                    0,
                    2,
                    1,
                    0,
                    2,
                    0,
                    1,
                    2,
                    3,
                    0,
                    0,
                    1,
                    0,
                    2,
                    0,
                    0,
                    3,
                    3,
                    0,
                    0,
                    3,
                    0,
                    2,
                    0,
                    0,
                    0,
                    0,
                    0,
                    1,
                    0,
                    0,
                    0,
                    0,
                    0,
                    0,
                    1,
                    0,
                    0,
                    0,
                    2,
                    0,
                    0,
                    0,
                    2,
                    0,
                    0,
                    1,
                    0,
                    0,
                    0,
                    0,
                    0,
                    3,
                    2,
                    0,
                    0,
                    0,
                    0,
                    0,
                    2,
                    1,
                    0,
                    0,
                    0,
                    0,
                    0,
                    0,
                    0,
                    2,
                    3,
                    0,
                    0,
                    0,
                    0,
                    0,
                    0,
                    4,
                    1,
                    0,
                    0,
                    0,
                    0,
                    0,
                    0,
                    0,
                    0,
                    1,
                    1,
                    0,
                    0,
                    1,
                    0,
                    3,
                    0,
                    1,
                    0,
                    2,
                    3,
                    0,
                    0,
                    0,
                    0,
                    0,
                    3,
                    0,
                    3,
                    0,
                    0,
                    0,
                    0,
                    1,
                    2,
                    0,
                    0,
                    0,
                    0,
                    0,
                    0,
                    0,
                    0,
                    4,
                    0,
                    1,
                    0,
                    0,
                    1,
                    4,
                    4,
                    1,
                    0,
                    0,
                    0,
                    0,
                    0,
                    0,
                    0,
                    0,
                    0,
                    0,
                    0,
                    0,
                    0,
                    0,
                    0,
                    0,
                    0,
                    0,
                    0,
                    3,
                    3,
                    0,
                    0,
                    1,
                    0,
                    0,
                    2,
                    3,
                    1,
                    4,
                    0,
                    3,
                    0,
                    0,
                    3,
                    0,
                    0,
                    0,
                    0,
                    0,
                    0,
                    0,
                    0,
                    0,
                    0,
                    0,
                    0,
                    2,
                    0,
                    1,
                    3,
                    1,
                    0,
                    0,
                    0,
                    0,
                    2,
                    0,
                    0,
                    0,
                    0,
                    0,
                    0,
                    0,
                    0
                  ]
                },
                {
                  "marker": {
                    "color": "red",
                    "line": {
                      "color": "red",
                      "width": 1
                    },
                    "size": 5
                  },
                  "mode": "markers",
                  "name": "Anomalies",
                  "type": "scatter",
                  "x": [
                    "33",
                    "307"
                  ],
                  "y": [
                    4,
                    4
                  ]
                }
              ],
              "layout": {
                "template": {
                  "data": {
                    "bar": [
                      {
                        "error_x": {
                          "color": "#2a3f5f"
                        },
                        "error_y": {
                          "color": "#2a3f5f"
                        },
                        "marker": {
                          "line": {
                            "color": "#E5ECF6",
                            "width": 0.5
                          },
                          "pattern": {
                            "fillmode": "overlay",
                            "size": 10,
                            "solidity": 0.2
                          }
                        },
                        "type": "bar"
                      }
                    ],
                    "barpolar": [
                      {
                        "marker": {
                          "line": {
                            "color": "#E5ECF6",
                            "width": 0.5
                          },
                          "pattern": {
                            "fillmode": "overlay",
                            "size": 10,
                            "solidity": 0.2
                          }
                        },
                        "type": "barpolar"
                      }
                    ],
                    "carpet": [
                      {
                        "aaxis": {
                          "endlinecolor": "#2a3f5f",
                          "gridcolor": "white",
                          "linecolor": "white",
                          "minorgridcolor": "white",
                          "startlinecolor": "#2a3f5f"
                        },
                        "baxis": {
                          "endlinecolor": "#2a3f5f",
                          "gridcolor": "white",
                          "linecolor": "white",
                          "minorgridcolor": "white",
                          "startlinecolor": "#2a3f5f"
                        },
                        "type": "carpet"
                      }
                    ],
                    "choropleth": [
                      {
                        "colorbar": {
                          "outlinewidth": 0,
                          "ticks": ""
                        },
                        "type": "choropleth"
                      }
                    ],
                    "contour": [
                      {
                        "colorbar": {
                          "outlinewidth": 0,
                          "ticks": ""
                        },
                        "colorscale": [
                          [
                            0,
                            "#0d0887"
                          ],
                          [
                            0.1111111111111111,
                            "#46039f"
                          ],
                          [
                            0.2222222222222222,
                            "#7201a8"
                          ],
                          [
                            0.3333333333333333,
                            "#9c179e"
                          ],
                          [
                            0.4444444444444444,
                            "#bd3786"
                          ],
                          [
                            0.5555555555555556,
                            "#d8576b"
                          ],
                          [
                            0.6666666666666666,
                            "#ed7953"
                          ],
                          [
                            0.7777777777777778,
                            "#fb9f3a"
                          ],
                          [
                            0.8888888888888888,
                            "#fdca26"
                          ],
                          [
                            1,
                            "#f0f921"
                          ]
                        ],
                        "type": "contour"
                      }
                    ],
                    "contourcarpet": [
                      {
                        "colorbar": {
                          "outlinewidth": 0,
                          "ticks": ""
                        },
                        "type": "contourcarpet"
                      }
                    ],
                    "heatmap": [
                      {
                        "colorbar": {
                          "outlinewidth": 0,
                          "ticks": ""
                        },
                        "colorscale": [
                          [
                            0,
                            "#0d0887"
                          ],
                          [
                            0.1111111111111111,
                            "#46039f"
                          ],
                          [
                            0.2222222222222222,
                            "#7201a8"
                          ],
                          [
                            0.3333333333333333,
                            "#9c179e"
                          ],
                          [
                            0.4444444444444444,
                            "#bd3786"
                          ],
                          [
                            0.5555555555555556,
                            "#d8576b"
                          ],
                          [
                            0.6666666666666666,
                            "#ed7953"
                          ],
                          [
                            0.7777777777777778,
                            "#fb9f3a"
                          ],
                          [
                            0.8888888888888888,
                            "#fdca26"
                          ],
                          [
                            1,
                            "#f0f921"
                          ]
                        ],
                        "type": "heatmap"
                      }
                    ],
                    "heatmapgl": [
                      {
                        "colorbar": {
                          "outlinewidth": 0,
                          "ticks": ""
                        },
                        "colorscale": [
                          [
                            0,
                            "#0d0887"
                          ],
                          [
                            0.1111111111111111,
                            "#46039f"
                          ],
                          [
                            0.2222222222222222,
                            "#7201a8"
                          ],
                          [
                            0.3333333333333333,
                            "#9c179e"
                          ],
                          [
                            0.4444444444444444,
                            "#bd3786"
                          ],
                          [
                            0.5555555555555556,
                            "#d8576b"
                          ],
                          [
                            0.6666666666666666,
                            "#ed7953"
                          ],
                          [
                            0.7777777777777778,
                            "#fb9f3a"
                          ],
                          [
                            0.8888888888888888,
                            "#fdca26"
                          ],
                          [
                            1,
                            "#f0f921"
                          ]
                        ],
                        "type": "heatmapgl"
                      }
                    ],
                    "histogram": [
                      {
                        "marker": {
                          "pattern": {
                            "fillmode": "overlay",
                            "size": 10,
                            "solidity": 0.2
                          }
                        },
                        "type": "histogram"
                      }
                    ],
                    "histogram2d": [
                      {
                        "colorbar": {
                          "outlinewidth": 0,
                          "ticks": ""
                        },
                        "colorscale": [
                          [
                            0,
                            "#0d0887"
                          ],
                          [
                            0.1111111111111111,
                            "#46039f"
                          ],
                          [
                            0.2222222222222222,
                            "#7201a8"
                          ],
                          [
                            0.3333333333333333,
                            "#9c179e"
                          ],
                          [
                            0.4444444444444444,
                            "#bd3786"
                          ],
                          [
                            0.5555555555555556,
                            "#d8576b"
                          ],
                          [
                            0.6666666666666666,
                            "#ed7953"
                          ],
                          [
                            0.7777777777777778,
                            "#fb9f3a"
                          ],
                          [
                            0.8888888888888888,
                            "#fdca26"
                          ],
                          [
                            1,
                            "#f0f921"
                          ]
                        ],
                        "type": "histogram2d"
                      }
                    ],
                    "histogram2dcontour": [
                      {
                        "colorbar": {
                          "outlinewidth": 0,
                          "ticks": ""
                        },
                        "colorscale": [
                          [
                            0,
                            "#0d0887"
                          ],
                          [
                            0.1111111111111111,
                            "#46039f"
                          ],
                          [
                            0.2222222222222222,
                            "#7201a8"
                          ],
                          [
                            0.3333333333333333,
                            "#9c179e"
                          ],
                          [
                            0.4444444444444444,
                            "#bd3786"
                          ],
                          [
                            0.5555555555555556,
                            "#d8576b"
                          ],
                          [
                            0.6666666666666666,
                            "#ed7953"
                          ],
                          [
                            0.7777777777777778,
                            "#fb9f3a"
                          ],
                          [
                            0.8888888888888888,
                            "#fdca26"
                          ],
                          [
                            1,
                            "#f0f921"
                          ]
                        ],
                        "type": "histogram2dcontour"
                      }
                    ],
                    "mesh3d": [
                      {
                        "colorbar": {
                          "outlinewidth": 0,
                          "ticks": ""
                        },
                        "type": "mesh3d"
                      }
                    ],
                    "parcoords": [
                      {
                        "line": {
                          "colorbar": {
                            "outlinewidth": 0,
                            "ticks": ""
                          }
                        },
                        "type": "parcoords"
                      }
                    ],
                    "pie": [
                      {
                        "automargin": true,
                        "type": "pie"
                      }
                    ],
                    "scatter": [
                      {
                        "fillpattern": {
                          "fillmode": "overlay",
                          "size": 10,
                          "solidity": 0.2
                        },
                        "type": "scatter"
                      }
                    ],
                    "scatter3d": [
                      {
                        "line": {
                          "colorbar": {
                            "outlinewidth": 0,
                            "ticks": ""
                          }
                        },
                        "marker": {
                          "colorbar": {
                            "outlinewidth": 0,
                            "ticks": ""
                          }
                        },
                        "type": "scatter3d"
                      }
                    ],
                    "scattercarpet": [
                      {
                        "marker": {
                          "colorbar": {
                            "outlinewidth": 0,
                            "ticks": ""
                          }
                        },
                        "type": "scattercarpet"
                      }
                    ],
                    "scattergeo": [
                      {
                        "marker": {
                          "colorbar": {
                            "outlinewidth": 0,
                            "ticks": ""
                          }
                        },
                        "type": "scattergeo"
                      }
                    ],
                    "scattergl": [
                      {
                        "marker": {
                          "colorbar": {
                            "outlinewidth": 0,
                            "ticks": ""
                          }
                        },
                        "type": "scattergl"
                      }
                    ],
                    "scattermapbox": [
                      {
                        "marker": {
                          "colorbar": {
                            "outlinewidth": 0,
                            "ticks": ""
                          }
                        },
                        "type": "scattermapbox"
                      }
                    ],
                    "scatterpolar": [
                      {
                        "marker": {
                          "colorbar": {
                            "outlinewidth": 0,
                            "ticks": ""
                          }
                        },
                        "type": "scatterpolar"
                      }
                    ],
                    "scatterpolargl": [
                      {
                        "marker": {
                          "colorbar": {
                            "outlinewidth": 0,
                            "ticks": ""
                          }
                        },
                        "type": "scatterpolargl"
                      }
                    ],
                    "scatterternary": [
                      {
                        "marker": {
                          "colorbar": {
                            "outlinewidth": 0,
                            "ticks": ""
                          }
                        },
                        "type": "scatterternary"
                      }
                    ],
                    "surface": [
                      {
                        "colorbar": {
                          "outlinewidth": 0,
                          "ticks": ""
                        },
                        "colorscale": [
                          [
                            0,
                            "#0d0887"
                          ],
                          [
                            0.1111111111111111,
                            "#46039f"
                          ],
                          [
                            0.2222222222222222,
                            "#7201a8"
                          ],
                          [
                            0.3333333333333333,
                            "#9c179e"
                          ],
                          [
                            0.4444444444444444,
                            "#bd3786"
                          ],
                          [
                            0.5555555555555556,
                            "#d8576b"
                          ],
                          [
                            0.6666666666666666,
                            "#ed7953"
                          ],
                          [
                            0.7777777777777778,
                            "#fb9f3a"
                          ],
                          [
                            0.8888888888888888,
                            "#fdca26"
                          ],
                          [
                            1,
                            "#f0f921"
                          ]
                        ],
                        "type": "surface"
                      }
                    ],
                    "table": [
                      {
                        "cells": {
                          "fill": {
                            "color": "#EBF0F8"
                          },
                          "line": {
                            "color": "white"
                          }
                        },
                        "header": {
                          "fill": {
                            "color": "#C8D4E3"
                          },
                          "line": {
                            "color": "white"
                          }
                        },
                        "type": "table"
                      }
                    ]
                  },
                  "layout": {
                    "annotationdefaults": {
                      "arrowcolor": "#2a3f5f",
                      "arrowhead": 0,
                      "arrowwidth": 1
                    },
                    "autotypenumbers": "strict",
                    "coloraxis": {
                      "colorbar": {
                        "outlinewidth": 0,
                        "ticks": ""
                      }
                    },
                    "colorscale": {
                      "diverging": [
                        [
                          0,
                          "#8e0152"
                        ],
                        [
                          0.1,
                          "#c51b7d"
                        ],
                        [
                          0.2,
                          "#de77ae"
                        ],
                        [
                          0.3,
                          "#f1b6da"
                        ],
                        [
                          0.4,
                          "#fde0ef"
                        ],
                        [
                          0.5,
                          "#f7f7f7"
                        ],
                        [
                          0.6,
                          "#e6f5d0"
                        ],
                        [
                          0.7,
                          "#b8e186"
                        ],
                        [
                          0.8,
                          "#7fbc41"
                        ],
                        [
                          0.9,
                          "#4d9221"
                        ],
                        [
                          1,
                          "#276419"
                        ]
                      ],
                      "sequential": [
                        [
                          0,
                          "#0d0887"
                        ],
                        [
                          0.1111111111111111,
                          "#46039f"
                        ],
                        [
                          0.2222222222222222,
                          "#7201a8"
                        ],
                        [
                          0.3333333333333333,
                          "#9c179e"
                        ],
                        [
                          0.4444444444444444,
                          "#bd3786"
                        ],
                        [
                          0.5555555555555556,
                          "#d8576b"
                        ],
                        [
                          0.6666666666666666,
                          "#ed7953"
                        ],
                        [
                          0.7777777777777778,
                          "#fb9f3a"
                        ],
                        [
                          0.8888888888888888,
                          "#fdca26"
                        ],
                        [
                          1,
                          "#f0f921"
                        ]
                      ],
                      "sequentialminus": [
                        [
                          0,
                          "#0d0887"
                        ],
                        [
                          0.1111111111111111,
                          "#46039f"
                        ],
                        [
                          0.2222222222222222,
                          "#7201a8"
                        ],
                        [
                          0.3333333333333333,
                          "#9c179e"
                        ],
                        [
                          0.4444444444444444,
                          "#bd3786"
                        ],
                        [
                          0.5555555555555556,
                          "#d8576b"
                        ],
                        [
                          0.6666666666666666,
                          "#ed7953"
                        ],
                        [
                          0.7777777777777778,
                          "#fb9f3a"
                        ],
                        [
                          0.8888888888888888,
                          "#fdca26"
                        ],
                        [
                          1,
                          "#f0f921"
                        ]
                      ]
                    },
                    "colorway": [
                      "#636efa",
                      "#EF553B",
                      "#00cc96",
                      "#ab63fa",
                      "#FFA15A",
                      "#19d3f3",
                      "#FF6692",
                      "#B6E880",
                      "#FF97FF",
                      "#FECB52"
                    ],
                    "font": {
                      "color": "#2a3f5f"
                    },
                    "geo": {
                      "bgcolor": "white",
                      "lakecolor": "white",
                      "landcolor": "#E5ECF6",
                      "showlakes": true,
                      "showland": true,
                      "subunitcolor": "white"
                    },
                    "hoverlabel": {
                      "align": "left"
                    },
                    "hovermode": "closest",
                    "mapbox": {
                      "style": "light"
                    },
                    "paper_bgcolor": "white",
                    "plot_bgcolor": "#E5ECF6",
                    "polar": {
                      "angularaxis": {
                        "gridcolor": "white",
                        "linecolor": "white",
                        "ticks": ""
                      },
                      "bgcolor": "#E5ECF6",
                      "radialaxis": {
                        "gridcolor": "white",
                        "linecolor": "white",
                        "ticks": ""
                      }
                    },
                    "scene": {
                      "xaxis": {
                        "backgroundcolor": "#E5ECF6",
                        "gridcolor": "white",
                        "gridwidth": 2,
                        "linecolor": "white",
                        "showbackground": true,
                        "ticks": "",
                        "zerolinecolor": "white"
                      },
                      "yaxis": {
                        "backgroundcolor": "#E5ECF6",
                        "gridcolor": "white",
                        "gridwidth": 2,
                        "linecolor": "white",
                        "showbackground": true,
                        "ticks": "",
                        "zerolinecolor": "white"
                      },
                      "zaxis": {
                        "backgroundcolor": "#E5ECF6",
                        "gridcolor": "white",
                        "gridwidth": 2,
                        "linecolor": "white",
                        "showbackground": true,
                        "ticks": "",
                        "zerolinecolor": "white"
                      }
                    },
                    "shapedefaults": {
                      "line": {
                        "color": "#2a3f5f"
                      }
                    },
                    "ternary": {
                      "aaxis": {
                        "gridcolor": "white",
                        "linecolor": "white",
                        "ticks": ""
                      },
                      "baxis": {
                        "gridcolor": "white",
                        "linecolor": "white",
                        "ticks": ""
                      },
                      "bgcolor": "#E5ECF6",
                      "caxis": {
                        "gridcolor": "white",
                        "linecolor": "white",
                        "ticks": ""
                      }
                    },
                    "title": {
                      "x": 0.05
                    },
                    "xaxis": {
                      "automargin": true,
                      "gridcolor": "white",
                      "linecolor": "white",
                      "ticks": "",
                      "title": {
                        "standoff": 15
                      },
                      "zerolinecolor": "white",
                      "zerolinewidth": 2
                    },
                    "yaxis": {
                      "automargin": true,
                      "gridcolor": "white",
                      "linecolor": "white",
                      "ticks": "",
                      "title": {
                        "standoff": 15
                      },
                      "zerolinecolor": "white",
                      "zerolinewidth": 2
                    }
                  }
                },
                "title": {
                  "text": "Isolation Forest"
                },
                "xaxis": {
                  "title": {
                    "text": "x-axis"
                  }
                },
                "yaxis": {
                  "title": {
                    "text": "accident level"
                  }
                }
              }
            }
          },
          "metadata": {}
        }
      ],
      "execution_count": 75,
      "metadata": {
        "executionInfo": {
          "elapsed": 6,
          "status": "aborted",
          "timestamp": 1669401474210,
          "user": {
            "displayName": "Кирилл Сидоров",
            "userId": "17089401133645507049"
          },
          "user_tz": -180
        },
        "id": "vgexTC8hCpun"
      }
    }
  ],
  "metadata": {
    "colab": {
      "authorship_tag": "ABX9TyM0Djoc2UarfNF/MwafZiJD",
      "provenance": []
    },
    "kernelspec": {
      "name": "python",
      "language": "python",
      "display_name": "Pyolite (preview)"
    },
    "language_info": {
      "codemirror_mode": {
        "name": "python",
        "version": 3
      },
      "file_extension": ".py",
      "mimetype": "text/x-python",
      "name": "python",
      "nbconvert_exporter": "python",
      "pygments_lexer": "ipython3",
      "version": "3.8"
    },
    "vscode": {
      "interpreter": {
        "hash": "c1507369ebab3c5397d1d3b1e62fc183b3f61a3940916aa8a7a24ceed0afc75a"
      }
    },
    "kernel_info": {
      "name": "python"
    },
    "nteract": {
      "version": "nteract-front-end@1.0.0"
    }
  },
  "nbformat": 4,
  "nbformat_minor": 0
}